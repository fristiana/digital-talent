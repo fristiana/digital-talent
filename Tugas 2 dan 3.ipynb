{
 "cells": [
  {
   "cell_type": "markdown",
   "metadata": {},
   "source": [
    "# Tugas 2 dan 3\n",
    "Ayuningtyas Hari Fristiana, Kelas BD-B"
   ]
  },
  {
   "cell_type": "markdown",
   "metadata": {},
   "source": [
    "# LATIHAN 2 - Tugas List Nilai\n",
    "Diberikan sekumpulan Nilai Random antara 0 sampai dengan 100 sebanyak 250 nilai. Buatlah program untuk melakukan hal berikut:"
   ]
  },
  {
   "cell_type": "markdown",
   "metadata": {},
   "source": [
    "1. Tampilkan Angka Ganjil dari ke 250 nilai tersebut\n",
    "2. Tampilkan berapa banyak yang mendapatkan nilai lebih dari 70\n",
    "3. Tampilkan standar deviasi dari sekumpulan nilai tersebut\n",
    "4. Tampilkan nilai maksimum dan minimum\n",
    "5. Tampilkan modus dari sekumpulan nilai tersebut"
   ]
  },
  {
   "cell_type": "code",
   "execution_count": 1,
   "metadata": {},
   "outputs": [
    {
     "name": "stdout",
     "output_type": "stream",
     "text": [
      "[26, 39, 55, 1, 52, 24, 93, 66, 36, 63, 31, 99, 36, 14, 42, 41, 18, 74, 4, 83, 59, 44, 56, 52, 68, 89, 67, 81, 23, 76, 38, 39, 78, 88, 5, 47, 52, 41, 10, 43, 89, 46, 72, 69, 10, 98, 86, 39, 86, 17, 26, 20, 36, 79, 14, 65, 41, 17, 75, 60, 95, 14, 54, 42, 72, 61, 95, 21, 63, 62, 78, 96, 87, 62, 27, 14, 80, 46, 97, 79, 3, 19, 21, 80, 33, 95, 95, 58, 39, 82, 32, 20, 72, 74, 17, 96, 84, 21, 33, 51, 20, 1, 91, 67, 35, 22, 25, 41, 7, 27, 56, 21, 21, 55, 87, 83, 63, 93, 91, 37, 41, 53, 67, 93, 43, 71, 75, 21, 40, 1, 59, 14, 81, 52, 49, 76, 63, 37, 21, 91, 13, 37, 71, 69, 77, 26, 88, 83, 83, 70, 4, 83, 59, 42, 11, 61, 13, 42, 22, 35, 76, 77, 53, 69, 39, 25, 81, 13, 95, 2, 85, 33, 95, 36, 86, 76, 36, 86, 12, 71, 24, 22, 99, 46, 44, 71, 81, 37, 63, 46, 43, 52, 94, 21, 66, 88, 40, 74, 95, 12, 33, 91, 4, 63, 66, 64, 60, 73, 71, 95, 12, 62, 29, 55, 20, 66, 30, 97, 4, 68, 83, 74, 25, 10, 68, 77, 97, 21, 8, 69, 54, 36, 16, 26, 69, 39, 75, 61, 70, 33, 66, 65, 50, 96, 52, 14, 51, 36, 34, 85]\n"
     ]
    }
   ],
   "source": [
    "import random\n",
    "\n",
    "# GENERATE RANDOM\n",
    "nilaiTugas = []\n",
    "for i in range(250):\n",
    "    nilaiTugas.append(random.randrange(1,100,1))\n",
    "\n",
    "print(nilaiTugas)"
   ]
  },
  {
   "cell_type": "markdown",
   "metadata": {},
   "source": [
    "### 1. Tampilkan Angka Ganjil dari ke 250 nilai tersebut"
   ]
  },
  {
   "cell_type": "code",
   "execution_count": 2,
   "metadata": {},
   "outputs": [
    {
     "name": "stdout",
     "output_type": "stream",
     "text": [
      "[39, 55, 1, 93, 63, 31, 99, 41, 83, 59, 89, 67, 81, 23, 39, 5, 47, 41, 43, 89, 69, 39, 17, 79, 65, 41, 17, 75, 95, 61, 95, 21, 63, 87, 27, 97, 79, 3, 19, 21, 33, 95, 95, 39, 17, 21, 33, 51, 1, 91, 67, 35, 25, 41, 7, 27, 21, 21, 55, 87, 83, 63, 93, 91, 37, 41, 53, 67, 93, 43, 71, 75, 21, 1, 59, 81, 49, 63, 37, 21, 91, 13, 37, 71, 69, 77, 83, 83, 83, 59, 11, 61, 13, 35, 77, 53, 69, 39, 25, 81, 13, 95, 85, 33, 95, 71, 99, 71, 81, 37, 63, 43, 21, 95, 33, 91, 63, 73, 71, 95, 29, 55, 97, 83, 25, 77, 97, 21, 69, 69, 39, 75, 61, 33, 65, 51, 85]\n"
     ]
    }
   ],
   "source": [
    "angkaGanjil = []\n",
    "for n in nilaiTugas:\n",
    "    if n%2 != 0:\n",
    "        angkaGanjil.append(n)\n",
    "\n",
    "print(angkaGanjil)"
   ]
  },
  {
   "cell_type": "markdown",
   "metadata": {},
   "source": [
    "### 2. Tampilkan berapa banyak yang mendapatkan nilai lebih dari 70"
   ]
  },
  {
   "cell_type": "code",
   "execution_count": 3,
   "metadata": {},
   "outputs": [
    {
     "name": "stdout",
     "output_type": "stream",
     "text": [
      "Jumlah siswa yang mendapatkan nilai lebih dari 7 adalah sebanyak = 79\n"
     ]
    }
   ],
   "source": [
    "nilaiLebih70 = []\n",
    "for n in nilaiTugas:\n",
    "    if n>70:\n",
    "        nilaiLebih70.append(n)\n",
    "\n",
    "# print(nilaiLebih70)\n",
    "print('Jumlah siswa yang mendapatkan nilai lebih dari 7 adalah sebanyak =',len(nilaiLebih70))"
   ]
  },
  {
   "cell_type": "markdown",
   "metadata": {},
   "source": [
    "### 3. Tampilkan standar deviasi dari sekumpulan nilai tersebut"
   ]
  },
  {
   "cell_type": "code",
   "execution_count": 5,
   "metadata": {},
   "outputs": [
    {
     "name": "stdout",
     "output_type": "stream",
     "text": [
      "Standar Deviasi = 27.549526311717226\n"
     ]
    }
   ],
   "source": [
    "N = len(nilaiTugas)\n",
    "total = 0\n",
    "\n",
    "for i in nilaiTugas:\n",
    "    total = total+i\n",
    "    \n",
    "rata = total/N\n",
    "\n",
    "pembilang = 0\n",
    "for j in nilaiTugas:\n",
    "    pembilang = pembilang + ((j-rata)**2)\n",
    "\n",
    "import math\n",
    "standardDeviation = math.sqrt(pembilang/N)\n",
    "print('Standar Deviasi =', standardDeviation)"
   ]
  },
  {
   "cell_type": "markdown",
   "metadata": {},
   "source": [
    "### 4. Tampilkan nilai maksimum dan minimum"
   ]
  },
  {
   "cell_type": "code",
   "execution_count": 6,
   "metadata": {},
   "outputs": [
    {
     "name": "stdout",
     "output_type": "stream",
     "text": [
      "Nilai Maksimum= 99\n",
      "Nilai Minimum= 1\n"
     ]
    }
   ],
   "source": [
    "nilaiMaks = nilaiTugas[0]\n",
    "nilaiMin = nilaiTugas[0]\n",
    "for n in nilaiTugas:\n",
    "    if(n>nilaiMaks):\n",
    "        nilaiMaks = n\n",
    "    if(n<nilaiMin):\n",
    "        nilaiMin = n\n",
    "\n",
    "print('Nilai Maksimum=', nilaiMaks)\n",
    "print('Nilai Minimum=', nilaiMin)"
   ]
  },
  {
   "cell_type": "markdown",
   "metadata": {},
   "source": [
    "### 5. Tampilkan modus dari sekumpulan nilai tersebut"
   ]
  },
  {
   "cell_type": "code",
   "execution_count": 8,
   "metadata": {},
   "outputs": [
    {
     "name": "stdout",
     "output_type": "stream",
     "text": [
      "Modus data dengan frekuensi terbanyak yaitu frekuensi = 9 \n",
      "Modus nya adalah sebagai berikut: [21]\n"
     ]
    }
   ],
   "source": [
    "# cara 1\n",
    "def hitungFrekuensi(setList):\n",
    "    myDict = {}\n",
    "    for i in setList:\n",
    "        if i not in myDict:\n",
    "            myDict[i] = 1\n",
    "        else:\n",
    "            myDict[i] += 1\n",
    "    return myDict\n",
    "\n",
    "myDictionary = hitungFrekuensi(nilaiTugas)\n",
    "maksFrek = 0\n",
    "for k,v in myDictionary.items():\n",
    "    if v>maksFrek:\n",
    "        maksFrek = v\n",
    "\n",
    "listModusData = []\n",
    "for k,v in myDictionary.items():\n",
    "    if v == maksFrek:\n",
    "        listModusData.append(k)\n",
    "\n",
    "print('Modus data dengan frekuensi terbanyak yaitu frekuensi =',maksFrek, '\\nModus nya adalah sebagai berikut:',listModusData)"
   ]
  },
  {
   "cell_type": "code",
   "execution_count": 9,
   "metadata": {},
   "outputs": [
    {
     "name": "stdout",
     "output_type": "stream",
     "text": [
      "Modus data dengan frekuensi terbanyak yaitu frekuensi = 9 \n",
      "Modus nya adalah sebagai berikut: [21]\n"
     ]
    }
   ],
   "source": [
    "#cara 2\n",
    "nilaiKeys = set(nilaiTugas)\n",
    "# print(dictionaryNilaiTugasKeys)\n",
    "listKeys = list(nilaiKeys)\n",
    "# print(listKeys)\n",
    "\n",
    "maksFrequency = 0\n",
    "modusData = []\n",
    "dictionaryNilai = {}\n",
    "for k in listKeys:\n",
    "    n_freq = nilaiTugas.count(k)\n",
    "    dictionaryNilai[k] = n_freq\n",
    "    if n_freq>maksFrequency:\n",
    "        maksFrequency = n_freq\n",
    "\n",
    "# print(dictionaryNilai)\n",
    "\n",
    "for k,v in dictionaryNilai.items():\n",
    "    if v == maksFrequency:\n",
    "        modusData.append(k)\n",
    "        \n",
    "print('Modus data dengan frekuensi terbanyak yaitu frekuensi =',maksFrequency, '\\nModus nya adalah sebagai berikut:',modusData)"
   ]
  },
  {
   "cell_type": "markdown",
   "metadata": {},
   "source": [
    "# LATIHAN 3 - Word Count"
   ]
  },
  {
   "cell_type": "code",
   "execution_count": 11,
   "metadata": {},
   "outputs": [
    {
     "name": "stdout",
     "output_type": "stream",
     "text": [
      "Barcelona berhasil merebut posisi puncak klasemen La Liga Spanyol seusai menang 4-2 atas Sevilla pada pertandingan pekan kesembilan di Stadion Camp Nou, Sabtu (20/10/2018) atau Minggu dini hari WIB. Barcelona membuka keunggulan pada menit ke-2 melalui gol yang dicetak oleh Philippe Coutinho. Lionel Messi menggandakan keunggulan Barcelona, 10 menit berselang.  Namun, nahas bagi Barcelona, karena Messi harus ditarik keluar pada menit ke-26 setelah mengalami cedera. Tanpa Messi, skor 2-0 bertahan hingga babak pertama berakhir.\n",
      "\n",
      "\n",
      "Word Count dari paragraf di atas adalah sebagai berikut\n",
      "• barcelona : 4\n",
      "• berhasil : 1\n",
      "• merebut : 1\n",
      "• posisi : 1\n",
      "• puncak : 1\n",
      "• klasemen : 1\n",
      "• la : 1\n",
      "• liga : 1\n",
      "• spanyol : 1\n",
      "• seusai : 1\n",
      "• menang : 1\n",
      "• 4 : 1\n",
      "• 2 : 3\n",
      "• atas : 1\n",
      "• sevilla : 1\n",
      "• pada : 3\n",
      "• pertandingan : 1\n",
      "• pekan : 1\n",
      "• kesembilan : 1\n",
      "• di : 1\n",
      "• stadion : 1\n",
      "• camp : 1\n",
      "• nou : 1\n",
      "• sabtu : 1\n",
      "• 20 : 1\n",
      "• 10 : 2\n",
      "• 2018 : 1\n",
      "• atau : 1\n",
      "• minggu : 1\n",
      "• dini : 1\n",
      "• hari : 1\n",
      "• wib : 1\n",
      "• membuka : 1\n",
      "• keunggulan : 2\n",
      "• menit : 3\n",
      "• ke : 2\n",
      "• melalui : 1\n",
      "• gol : 1\n",
      "• yang : 1\n",
      "• dicetak : 1\n",
      "• oleh : 1\n",
      "• philippe : 1\n",
      "• coutinho : 1\n",
      "• lionel : 1\n",
      "• messi : 3\n",
      "• menggandakan : 1\n",
      "• berselang : 1\n",
      "• namun : 1\n",
      "• nahas : 1\n",
      "• bagi : 1\n",
      "• karena : 1\n",
      "• harus : 1\n",
      "• ditarik : 1\n",
      "• keluar : 1\n",
      "• 26 : 1\n",
      "• setelah : 1\n",
      "• mengalami : 1\n",
      "• cedera : 1\n",
      "• tanpa : 1\n",
      "• skor : 1\n",
      "• 0 : 1\n",
      "• bertahan : 1\n",
      "• hingga : 1\n",
      "• babak : 1\n",
      "• pertama : 1\n",
      "• berakhir : 1\n"
     ]
    }
   ],
   "source": [
    "# cara 1\n",
    "paragraf = \"Barcelona berhasil merebut posisi puncak klasemen La Liga Spanyol seusai menang 4-2 atas Sevilla pada pertandingan pekan kesembilan di Stadion Camp Nou, Sabtu (20/10/2018) atau Minggu dini hari WIB. Barcelona membuka keunggulan pada menit ke-2 melalui gol yang dicetak oleh Philippe Coutinho. Lionel Messi menggandakan keunggulan Barcelona, 10 menit berselang.  Namun, nahas bagi Barcelona, karena Messi harus ditarik keluar pada menit ke-26 setelah mengalami cedera. Tanpa Messi, skor 2-0 bertahan hingga babak pertama berakhir.\"\n",
    "print(paragraf)\n",
    "#bersiin dari special character\n",
    "paragraf = paragraf.replace(\"-\", \" \")\n",
    "paragraf = paragraf.replace(\"/\", \" \")\n",
    "paragraf = paragraf.replace(\",\", \" \")\n",
    "paragraf = paragraf.replace(\"(\",\" \")\n",
    "paragraf = paragraf.replace(\")\", \" \")\n",
    "#ubah jadi huruf kecil semua\n",
    "paragraf = paragraf.lower()\n",
    "#dipecah menjadi kalimat-kalimat\n",
    "kalimat = paragraf.split('.')\n",
    "kata = []\n",
    "# masing-masing kalimat dipecah menjadi kata\n",
    "for k in kalimat:\n",
    "    kata.append(k.strip().split())\n",
    "\n",
    "# gabungin jadi 1 list\n",
    "listKata = []\n",
    "for k in kata:\n",
    "    listKata = listKata + k\n",
    "\n",
    "# print(listKata)\n",
    "\n",
    "def hitungFrekuensi(setList):\n",
    "    myDict = {}\n",
    "    for i in setList:\n",
    "        if i not in myDict:\n",
    "            myDict[i] = 1\n",
    "        else:\n",
    "            myDict[i] += 1\n",
    "    return myDict\n",
    "\n",
    "myParagrafDictionary = hitungFrekuensi(listKata)\n",
    "# print(myParagrafDictionary)\n",
    "print('\\n\\nWord Count dari paragraf di atas adalah sebagai berikut')\n",
    "for k,v in myParagrafDictionary.items():\n",
    "        print('\\u2022',k,':',v)"
   ]
  },
  {
   "cell_type": "code",
   "execution_count": 12,
   "metadata": {},
   "outputs": [
    {
     "name": "stdout",
     "output_type": "stream",
     "text": [
      "Barcelona berhasil merebut posisi puncak klasemen La Liga Spanyol seusai menang 4-2 atas Sevilla pada pertandingan pekan kesembilan di Stadion Camp Nou, Sabtu (20/10/2018) atau Minggu dini hari WIB. Barcelona membuka keunggulan pada menit ke-2 melalui gol yang dicetak oleh Philippe Coutinho. Lionel Messi menggandakan keunggulan Barcelona, 10 menit berselang.  Namun, nahas bagi Barcelona, karena Messi harus ditarik keluar pada menit ke-26 setelah mengalami cedera. Tanpa Messi, skor 2-0 bertahan hingga babak pertama berakhir.\n",
      "\n",
      "\n",
      "Word Count dari paragraf di atas adalah sebagai berikut\n",
      "• melalui : 1\n",
      "• merebut : 1\n",
      "• camp : 1\n",
      "• babak : 1\n",
      "• coutinho : 1\n",
      "• berselang : 1\n",
      "• posisi : 1\n",
      "• wib : 1\n",
      "• nahas : 1\n",
      "• minggu : 1\n",
      "• 10 : 2\n",
      "• 2018 : 1\n",
      "• menang : 1\n",
      "• keunggulan : 2\n",
      "• membuka : 1\n",
      "• pertandingan : 1\n",
      "• philippe : 1\n",
      "• seusai : 1\n",
      "• 0 : 1\n",
      "• lionel : 1\n",
      "• barcelona : 4\n",
      "• 20 : 1\n",
      "• 2 : 3\n",
      "• skor : 1\n",
      "• hingga : 1\n",
      "• nou : 1\n",
      "• pekan : 1\n",
      "• liga : 1\n",
      "• oleh : 1\n",
      "• pertama : 1\n",
      "• hari : 1\n",
      "• berakhir : 1\n",
      "• karena : 1\n",
      "• di : 1\n",
      "• 4 : 1\n",
      "• ke : 2\n",
      "• 26 : 1\n",
      "• la : 1\n",
      "• messi : 3\n",
      "• pada : 3\n",
      "• yang : 1\n",
      "• ditarik : 1\n",
      "• setelah : 1\n",
      "• spanyol : 1\n",
      "• stadion : 1\n",
      "• harus : 1\n",
      "• keluar : 1\n",
      "• menit : 3\n",
      "• menggandakan : 1\n",
      "• berhasil : 1\n",
      "• dicetak : 1\n",
      "• puncak : 1\n",
      "• bertahan : 1\n",
      "• kesembilan : 1\n",
      "• gol : 1\n",
      "• cedera : 1\n",
      "• atau : 1\n",
      "• sevilla : 1\n",
      "• sabtu : 1\n",
      "• bagi : 1\n",
      "• tanpa : 1\n",
      "• klasemen : 1\n",
      "• atas : 1\n",
      "• dini : 1\n",
      "• mengalami : 1\n",
      "• namun : 1\n"
     ]
    }
   ],
   "source": [
    "#cara 2\n",
    "paragraf = \"Barcelona berhasil merebut posisi puncak klasemen La Liga Spanyol seusai menang 4-2 atas Sevilla pada pertandingan pekan kesembilan di Stadion Camp Nou, Sabtu (20/10/2018) atau Minggu dini hari WIB. Barcelona membuka keunggulan pada menit ke-2 melalui gol yang dicetak oleh Philippe Coutinho. Lionel Messi menggandakan keunggulan Barcelona, 10 menit berselang.  Namun, nahas bagi Barcelona, karena Messi harus ditarik keluar pada menit ke-26 setelah mengalami cedera. Tanpa Messi, skor 2-0 bertahan hingga babak pertama berakhir.\"\n",
    "print(paragraf)\n",
    "#bersiin dari special character\n",
    "paragraf = paragraf.replace(\"-\", \" \")\n",
    "paragraf = paragraf.replace(\"/\", \" \")\n",
    "paragraf = paragraf.replace(\",\", \" \")\n",
    "paragraf = paragraf.replace(\"(\",\" \")\n",
    "paragraf = paragraf.replace(\")\", \" \")\n",
    "#ubah jadi huruf kecil semua\n",
    "paragraf = paragraf.lower()\n",
    "#dipecah menjadi kalimat-kalimat\n",
    "kalimat = paragraf.split('.')\n",
    "kata = []\n",
    "# masing-masing kalimat dipecah menjadi kata\n",
    "for k in kalimat:\n",
    "    kata.append(k.strip().split())\n",
    "\n",
    "# gabungin jadi 1 list\n",
    "listKata = []\n",
    "for k in kata:\n",
    "    listKata = listKata + k\n",
    "\n",
    "# print(listKata)\n",
    "# get unique word\n",
    "mySet = set(listKata)\n",
    "myDictionary = {}\n",
    "for i in mySet:\n",
    "    myDictionary[i] = listKata.count(i)\n",
    "\n",
    "# print(myDictionary)\n",
    "print('\\n\\nWord Count dari paragraf di atas adalah sebagai berikut')\n",
    "for k,v in myDictionary.items():\n",
    "        print('\\u2022',k,':',v)"
   ]
  },
  {
   "cell_type": "code",
   "execution_count": null,
   "metadata": {},
   "outputs": [],
   "source": []
  }
 ],
 "metadata": {
  "kernelspec": {
   "display_name": "Python 3",
   "language": "python",
   "name": "python3"
  },
  "language_info": {
   "codemirror_mode": {
    "name": "ipython",
    "version": 3
   },
   "file_extension": ".py",
   "mimetype": "text/x-python",
   "name": "python",
   "nbconvert_exporter": "python",
   "pygments_lexer": "ipython3",
   "version": "3.6.5"
  }
 },
 "nbformat": 4,
 "nbformat_minor": 2
}
