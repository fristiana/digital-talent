{
 "cells": [
  {
   "cell_type": "markdown",
   "metadata": {},
   "source": [
    "## Looping"
   ]
  },
  {
   "cell_type": "code",
   "execution_count": 1,
   "metadata": {},
   "outputs": [
    {
     "name": "stdout",
     "output_type": "stream",
     "text": [
      "0\n",
      "1\n",
      "2\n",
      "3\n",
      "4\n",
      "5\n",
      "6\n",
      "7\n",
      "8\n",
      "9\n"
     ]
    }
   ],
   "source": [
    "#sintax for\n",
    "for i in range(0,10):\n",
    "    print(i)"
   ]
  },
  {
   "cell_type": "code",
   "execution_count": 2,
   "metadata": {},
   "outputs": [
    {
     "name": "stdout",
     "output_type": "stream",
     "text": [
      "0\n",
      "1\n",
      "4\n",
      "9\n",
      "16\n",
      "25\n",
      "36\n",
      "49\n",
      "64\n",
      "81\n"
     ]
    }
   ],
   "source": [
    "#sintax for\n",
    "for i in range(0,10):\n",
    "    print(i**2)"
   ]
  },
  {
   "cell_type": "code",
   "execution_count": 5,
   "metadata": {},
   "outputs": [
    {
     "name": "stdout",
     "output_type": "stream",
     "text": [
      "0 0\n",
      "2 4\n",
      "4 16\n",
      "6 36\n",
      "8 64\n"
     ]
    }
   ],
   "source": [
    "for i in range(0,10,2): #parameter yang terakhir itu utk step atau skip\n",
    "    print(i,i**2)"
   ]
  },
  {
   "cell_type": "code",
   "execution_count": 4,
   "metadata": {},
   "outputs": [
    {
     "name": "stdout",
     "output_type": "stream",
     "text": [
      "0\n",
      "1\n",
      "2\n",
      "3\n",
      "4\n",
      "5\n",
      "6\n",
      "7\n",
      "8\n",
      "9\n"
     ]
    }
   ],
   "source": [
    "#sintax while\n",
    "i = 0\n",
    "while i<10:\n",
    "    print(i)\n",
    "    i = i + 1"
   ]
  },
  {
   "cell_type": "code",
   "execution_count": null,
   "metadata": {},
   "outputs": [],
   "source": [
    "#sintax while\n",
    "i = 0\n",
    "while i<10:\n",
    "    print(i)\n",
    "    i = i + 2 #kalau mau pake step/skip kyk di parameter ketika dari sintaks for maka i nya plus mau skip berapa"
   ]
  },
  {
   "cell_type": "markdown",
   "metadata": {},
   "source": [
    "## LIST"
   ]
  },
  {
   "cell_type": "code",
   "execution_count": 7,
   "metadata": {},
   "outputs": [
    {
     "name": "stdout",
     "output_type": "stream",
     "text": [
      "[30, 40, 50, 60, 70, 80, 90]\n",
      "['Ani', 'Budi', 'Catra', 'Desi']\n",
      "['Big', 2.5, 90, 'Data']\n"
     ]
    }
   ],
   "source": [
    "#dapat berisi angka\n",
    "nilai = [30, 40, 50, 60 , 70, 80, 90]\n",
    "print(nilai)\n",
    "\n",
    "#dapat berisi string\n",
    "peserta = ['Ani', 'Budi', 'Catra', 'Desi']\n",
    "print(peserta)\n",
    "\n",
    "#dapat berisi campuran tipedata, namun pada umumya nilai yang disimpan dalamsatu list akan mempunyai tipe data  yang sama\n",
    "campuran = ['Big', 2.5, 90, 'Data']\n",
    "print(campuran)"
   ]
  },
  {
   "cell_type": "markdown",
   "metadata": {},
   "source": [
    "## List Index\n",
    "python akan memberikan index pada nilai uang disimpan pada list, index digunakan untuk mengakses nilai dari suatu list\n",
    "jika indexnya minus (misal -1) berarti menghitungnya dari belakang, list dalam python dimulai dari index 0"
   ]
  },
  {
   "cell_type": "code",
   "execution_count": 11,
   "metadata": {},
   "outputs": [
    {
     "name": "stdout",
     "output_type": "stream",
     "text": [
      "30\n",
      "20\n"
     ]
    }
   ],
   "source": [
    "print(nilai[0])\n",
    "print(nilai[-1])"
   ]
  },
  {
   "cell_type": "markdown",
   "metadata": {},
   "source": [
    "## Menambah elemen ke dalam list\n",
    "gunakan fungsi ### append\n",
    "jika untuk 1 nilai\n",
    "untuk menambahkan multiple value sekaligus gunakan ### extend"
   ]
  },
  {
   "cell_type": "code",
   "execution_count": 12,
   "metadata": {},
   "outputs": [
    {
     "name": "stdout",
     "output_type": "stream",
     "text": [
      "[30, 40, 50, 60, 70, 80, 90, 40, 20, 40, 20]\n",
      "[30, 40, 50, 60, 70, 80, 90, 40, 20, 40, 20, 100, 10, 30]\n"
     ]
    }
   ],
   "source": [
    "nilai.append(40)\n",
    "nilai.append(20)\n",
    "print(nilai)\n",
    "nilaitambah = [100, 10, 30]\n",
    "nilai.extend(nilaitambah)\n",
    "print(nilai)"
   ]
  },
  {
   "cell_type": "markdown",
   "metadata": {},
   "source": [
    "## Slicing list\n",
    "get subset dari sebuah list\n",
    "nilai[startindex (include):end(endindex not included)]"
   ]
  },
  {
   "cell_type": "code",
   "execution_count": 17,
   "metadata": {},
   "outputs": [
    {
     "name": "stdout",
     "output_type": "stream",
     "text": [
      "[30, 40, 50, 60, 70, 80, 90]\n",
      "[50, 60, 70]\n",
      "[30, 40, 50, 60, 70]\n",
      "[80, 90]\n",
      "[30, 40, 50, 60, 70, 80, 90]\n"
     ]
    }
   ],
   "source": [
    "nilai = [30, 40, 50, 60, 70, 80, 90]\n",
    "print(nilai)\n",
    "\n",
    "# elemen ke 3 sam pai ke 5\n",
    "print(nilai[2:5])\n",
    "\n",
    "# mengambil subset dari list dikurangi 2 element terakhir\n",
    "print(nilai[:-2])\n",
    "\n",
    "# mengambil subset dari index ke lima\n",
    "print(nilai[5:])\n",
    "\n",
    "#\n",
    "print(nilai[:])"
   ]
  },
  {
   "cell_type": "markdown",
   "metadata": {},
   "source": [
    "## Perulangan dalam list"
   ]
  },
  {
   "cell_type": "code",
   "execution_count": 19,
   "metadata": {},
   "outputs": [
    {
     "name": "stdout",
     "output_type": "stream",
     "text": [
      "30\n",
      "40\n",
      "50\n",
      "60\n",
      "70\n",
      "80\n",
      "90\n",
      "\n",
      "dituliskan juga indexnya\n",
      "0 30\n",
      "1 40\n",
      "2 50\n",
      "3 60\n",
      "4 70\n",
      "5 80\n",
      "6 90\n"
     ]
    }
   ],
   "source": [
    "for n in nilai:\n",
    "    print(n)\n",
    "    \n",
    "#mengikutkan indeksnya\n",
    "print('\\ndituliskan juga indexnya')\n",
    "for i,n in enumerate(nilai):\n",
    "    print(i,n)"
   ]
  },
  {
   "cell_type": "markdown",
   "metadata": {},
   "source": [
    "Contoh\n",
    "Berapakah rata-rata nilai dari list tersebut?"
   ]
  },
  {
   "cell_type": "code",
   "execution_count": 21,
   "metadata": {},
   "outputs": [
    {
     "name": "stdout",
     "output_type": "stream",
     "text": [
      "total= 420\n",
      "banyak data= 7\n",
      "60.0\n"
     ]
    }
   ],
   "source": [
    "total = 0\n",
    "for n in nilai:\n",
    "     total = total + n\n",
    "        \n",
    "print('total=', total)\n",
    "print('banyak data=', len(nilai))\n",
    "average = total/len(nilai)\n",
    "print(average)"
   ]
  },
  {
   "cell_type": "markdown",
   "metadata": {},
   "source": [
    "## Lookup Nilai dalam List"
   ]
  },
  {
   "cell_type": "code",
   "execution_count": 25,
   "metadata": {},
   "outputs": [
    {
     "name": "stdout",
     "output_type": "stream",
     "text": [
      "92 tidak ada dalam list\n"
     ]
    }
   ],
   "source": [
    "n = 92\n",
    "# n = 90\n",
    "if n in nilai:\n",
    "    print(n, \"ada dalam list\")\n",
    "else:\n",
    "    print(n, \"tidak ada dalam list\")"
   ]
  },
  {
   "cell_type": "markdown",
   "metadata": {},
   "source": [
    "Latihan:\n",
    "\n",
    "tugas = ['66', '77', '88', '99', '55', '54']\n",
    "Tampilkan nilai dari list tugas yang Genap"
   ]
  },
  {
   "cell_type": "markdown",
   "metadata": {},
   "source": [
    "tugas = [66, 77, 88, 99, 55, 54]\n",
    "tugas_genap = []\n",
    "\n",
    "for n in tugas:\n",
    "    if n%2 == 0:\n",
    "        tugas_genap.append(n)\n",
    "\n",
    "print(tugas_genap)\n",
    "\n",
    "tugas_ganjil = []\n",
    "for n in tugas:\n",
    "    if n%2 != 0: # atau bisa if n%2 == 1\n",
    "        tugas_genap.append(n)"
   ]
  },
  {
   "cell_type": "markdown",
   "metadata": {},
   "source": [
    "## Tuple\n",
    "bersifat sama dengan list namun immutable artinya fixed ga bisa diubah-ubah, ga bisa ditambah ga bisa dihapus elementnya juga, diupdate nilainya pun juga ga bisa. Keuntungannya untuk akses elemen di dalam tuple itu lebih cepat dari pada akses elemen di dalam list\n",
    "deklarasi untuk tuple menggunakan kurung ()\n",
    "untuk operasi, slicing dan akses elementnya caranya sama dengan list"
   ]
  },
  {
   "cell_type": "code",
   "execution_count": 29,
   "metadata": {},
   "outputs": [
    {
     "name": "stdout",
     "output_type": "stream",
     "text": [
      "('Januari', 'Februari', 'Maret', 'April', 'Mei', 'Juni', 'Juli', 'Agustus', 'September', 'Oktober', 'November', 'Desember')\n"
     ]
    }
   ],
   "source": [
    "# Deklarasi Tuple\n",
    "bulan = ('Januari', 'Februari', 'Maret', 'April', 'Mei', 'Juni', 'Juli', 'Agustus', 'September', 'Oktober', 'November', 'Desember')\n",
    "print(bulan)"
   ]
  },
  {
   "cell_type": "markdown",
   "metadata": {},
   "source": [
    "## Dictionary\n",
    "pada dasarnya sama menyimpan beberapa sekaligus dalam satu variabel. Bedanya klo dictionary nyimpan nya dalam pasangan key : value, item dipisahkan oleh koma, dan semuanya tertutup dalam kurung kurawal {}"
   ]
  },
  {
   "cell_type": "code",
   "execution_count": 31,
   "metadata": {},
   "outputs": [
    {
     "name": "stdout",
     "output_type": "stream",
     "text": [
      "{'Nama': 'Budi', 'Umur': 7, 'JenisKelamin': 'Laki-laki'}\n",
      "Budi\n",
      "7\n",
      "Laki-laki\n",
      "[{'Nama': 'Budi', 'Umur': 7, 'JenisKelamin': 'Laki-laki'}, {'Nama': 'Ani', 'Umur': 8, 'JenisKelamin': 'Perempuan'}]\n",
      "{'Nama': 'Budi', 'Umur': 7, 'JenisKelamin': 'Laki-laki'}\n",
      "{'Nama': 'Ani', 'Umur': 8, 'JenisKelamin': 'Perempuan'}\n"
     ]
    }
   ],
   "source": [
    "siswa = {'Nama': 'Budi', 'Umur':7, 'JenisKelamin': 'Laki-laki'}\n",
    "siswa2 = {'Nama': 'Ani', 'Umur':8, 'JenisKelamin': 'Perempuan'}\n",
    "print(siswa)\n",
    "print(siswa['Nama'])\n",
    "print(siswa['Umur'])\n",
    "print(siswa['JenisKelamin'])\n",
    "\n",
    "list_siswa = []\n",
    "list_siswa.append(siswa)\n",
    "list_siswa.append(siswa2)\n",
    "print(list_siswa)\n",
    "print(list_siswa[0])\n",
    "print(list_siswa[1])"
   ]
  },
  {
   "cell_type": "markdown",
   "metadata": {},
   "source": [
    "### Menggubah nilai dictionary"
   ]
  },
  {
   "cell_type": "code",
   "execution_count": 32,
   "metadata": {},
   "outputs": [
    {
     "name": "stdout",
     "output_type": "stream",
     "text": [
      "{'Nama': 'Deni', 'Umur': 7, 'JenisKelamin': 'Laki-laki'}\n"
     ]
    }
   ],
   "source": [
    "siswa['Nama'] = 'Deni'\n",
    "print(siswa)"
   ]
  },
  {
   "cell_type": "markdown",
   "metadata": {},
   "source": [
    "### Menambahkan Element"
   ]
  },
  {
   "cell_type": "code",
   "execution_count": 33,
   "metadata": {},
   "outputs": [
    {
     "name": "stdout",
     "output_type": "stream",
     "text": [
      "{'Nama': 'Deni', 'Umur': 7, 'JenisKelamin': 'Laki-laki', 'Alamat': 'Jl. Kaliurang KM 5'}\n"
     ]
    }
   ],
   "source": [
    "siswa['Alamat'] = 'Jl. Kaliurang KM 5'\n",
    "print(siswa)"
   ]
  },
  {
   "cell_type": "code",
   "execution_count": 35,
   "metadata": {},
   "outputs": [
    {
     "name": "stdout",
     "output_type": "stream",
     "text": [
      "{'Nama': 'Deni', 'Umur': 7, 'JenisKelamin': 'Laki-laki', 'Alamat': 'Jl. Kaliurang KM 5', 'Nilai': [30, 40, 50, 60, 70, 80, 90]}\n",
      "30\n",
      "40\n",
      "50\n",
      "60\n",
      "70\n",
      "80\n",
      "90\n"
     ]
    }
   ],
   "source": [
    "#Lst sebagai nilai dari elemen Dictionary\n",
    "siswa['Nilai'] = nilai\n",
    "print(siswa)\n",
    "\n",
    "for n in siswa['Nilai']:\n",
    "    print(n)"
   ]
  },
  {
   "cell_type": "code",
   "execution_count": 38,
   "metadata": {},
   "outputs": [
    {
     "name": "stdout",
     "output_type": "stream",
     "text": [
      "===================================================\n",
      "Nama Deni\n",
      "Umur 7\n",
      "JenisKelamin Laki-laki\n",
      "Alamat Jl. Kaliurang KM 5\n",
      "Nilai [30, 40, 50, 60, 70, 80, 90]\n",
      "===================================================\n",
      "Nama Ani\n",
      "Umur 8\n",
      "JenisKelamin Perempuan\n"
     ]
    }
   ],
   "source": [
    "for l in list_siswa:\n",
    "    print('===================================================')\n",
    "    for k, v in l.items():\n",
    "        print(k,v)"
   ]
  },
  {
   "cell_type": "markdown",
   "metadata": {},
   "source": [
    "## Operasi String"
   ]
  },
  {
   "cell_type": "markdown",
   "metadata": {},
   "source": [
    "### Slicing dan Akses per Karakter\n",
    "kita bisa anggap string sebagai list of character"
   ]
  },
  {
   "cell_type": "code",
   "execution_count": 40,
   "metadata": {},
   "outputs": [
    {
     "name": "stdout",
     "output_type": "stream",
     "text": [
      "Tutori\n",
      "ograman Py\n",
      "Python\n"
     ]
    }
   ],
   "source": [
    "nama = 'Tutorial Bahasa Pemrograman Python'\n",
    "print(nama[0:6])\n",
    "print(nama[20:30])\n",
    "print(nama[-6:])"
   ]
  },
  {
   "cell_type": "code",
   "execution_count": null,
   "metadata": {},
   "outputs": [],
   "source": [
    "for n in nama:\n",
    "    print(n)"
   ]
  },
  {
   "cell_type": "markdown",
   "metadata": {},
   "source": [
    "### Merubah String menjadi list Kata\n",
    "klo di text mining namanya tokenisasi"
   ]
  },
  {
   "cell_type": "code",
   "execution_count": 43,
   "metadata": {},
   "outputs": [
    {
     "name": "stdout",
     "output_type": "stream",
     "text": [
      "['Tutorial', 'Bahasa', 'Pemrograman', 'Python']\n",
      "Tutorial\n",
      "Pemrograman\n",
      "['Pada hari minggu kuturut ayah ke kota', ' Naik delman istimewa kududuk di muka kududuk samping pak kusir yang sedang bekerja']\n",
      " Naik delman istimewa kududuk di muka kududuk samping pak kusir yang sedang bekerja\n",
      "['Pada', 'hari', 'minggu', 'kuturut', 'ayah', 'ke', 'kota']\n",
      "['Naik', 'delman', 'istimewa', 'kududuk', 'di', 'muka', 'kududuk', 'samping', 'pak', 'kusir', 'yang', 'sedang', 'bekerja']\n"
     ]
    }
   ],
   "source": [
    "kata = nama.split() # split tanpa parameter maka default pemisahnya adalah space (spasi)\n",
    "print(kata)\n",
    "print(kata[0])\n",
    "print(kata[2])\n",
    "\n",
    "paragraf = 'Pada hari minggu kuturut ayah ke kota. Naik delman istimewa kududuk di muka kududuk samping pak kusir yang sedang bekerja'\n",
    "kalimat = paragraf.split('.')\n",
    "print(kalimat)\n",
    "print(kalimat[-1])\n",
    "\n",
    "for k in kalimat:\n",
    "    print(k.strip().split()) #strip() digunakan untuk menghilangkan spasi di awal dan akhir sebuah element"
   ]
  },
  {
   "cell_type": "markdown",
   "metadata": {},
   "source": [
    "### Pencarian kata dalam String"
   ]
  },
  {
   "cell_type": "code",
   "execution_count": 49,
   "metadata": {},
   "outputs": [
    {
     "name": "stdout",
     "output_type": "stream",
     "text": [
      "Not Found!\n"
     ]
    }
   ],
   "source": [
    "# cari = 'Python'\n",
    "cari = 'Pythonn'\n",
    "if cari in nama:\n",
    "    print('Found!')\n",
    "else:\n",
    "    print('Not Found!')"
   ]
  },
  {
   "cell_type": "markdown",
   "metadata": {},
   "source": [
    "### Replace String"
   ]
  },
  {
   "cell_type": "code",
   "execution_count": 50,
   "metadata": {},
   "outputs": [
    {
     "name": "stdout",
     "output_type": "stream",
     "text": [
      "pada hari ini saya belajar\n"
     ]
    }
   ],
   "source": [
    "paragraf = 'pd hr ini saya bljr'\n",
    "paragraf = paragraf.replace('pd', 'pada')\n",
    "paragraf = paragraf.replace('hr', 'hari')\n",
    "paragraf = paragraf.replace('bljr', 'belajar')\n",
    "print(paragraf)"
   ]
  },
  {
   "cell_type": "markdown",
   "metadata": {},
   "source": [
    "### Panjang String, Lowercase, Uppercase\n",
    "catatan: untuk analisa text mining nantinya akan lebih baik kalau diseragamin dulu hurufnya menjadi lowercase smw/uppercase smw"
   ]
  },
  {
   "cell_type": "code",
   "execution_count": 51,
   "metadata": {},
   "outputs": [
    {
     "name": "stdout",
     "output_type": "stream",
     "text": [
      "34\n",
      "TUTORIAL BAHASA PEMROGRAMAN PYTHON\n",
      "tutorial bahasa pemrograman python\n"
     ]
    }
   ],
   "source": [
    "print(len(nama))\n",
    "print(nama.upper())\n",
    "print(nama.lower())"
   ]
  },
  {
   "cell_type": "code",
   "execution_count": null,
   "metadata": {},
   "outputs": [],
   "source": []
  }
 ],
 "metadata": {
  "kernelspec": {
   "display_name": "Python 3",
   "language": "python",
   "name": "python3"
  },
  "language_info": {
   "codemirror_mode": {
    "name": "ipython",
    "version": 3
   },
   "file_extension": ".py",
   "mimetype": "text/x-python",
   "name": "python",
   "nbconvert_exporter": "python",
   "pygments_lexer": "ipython3",
   "version": "3.6.5"
  }
 },
 "nbformat": 4,
 "nbformat_minor": 2
}
