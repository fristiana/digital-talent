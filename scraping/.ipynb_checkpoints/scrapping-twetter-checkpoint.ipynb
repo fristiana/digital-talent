{
 "cells": [
  {
   "cell_type": "markdown",
   "metadata": {},
   "source": [
    "# Tugas Scraping\n",
    "Ayuningtyas Hari Fristiana\n",
    "Kelas BD-B"
   ]
  },
  {
   "cell_type": "markdown",
   "metadata": {},
   "source": [
    "# Scraping Twitter - dengan tema \"Tsunami Palu\""
   ]
  },
  {
   "cell_type": "code",
   "execution_count": 2,
   "metadata": {},
   "outputs": [],
   "source": [
    "from twython import Twython\n",
    "import json"
   ]
  },
  {
   "cell_type": "code",
   "execution_count": 3,
   "metadata": {},
   "outputs": [],
   "source": [
    "TWITTER_APP_KEY = 'my API KEY'\n",
    "TWITTER_APP_KEY_SECRET = 'my API KEY SECRET' \n",
    "TWITTER_ACCESS_TOKEN = 'my ACCESS TOKEN'\n",
    "TWITTER_ACCESS_TOKEN_SECRET = 'my ACCESS TOKEN SECRET'\n",
    "\n",
    "t = Twython(app_key=TWITTER_APP_KEY, \n",
    "            app_secret=TWITTER_APP_KEY_SECRET, \n",
    "            oauth_token=TWITTER_ACCESS_TOKEN, \n",
    "            oauth_token_secret=TWITTER_ACCESS_TOKEN_SECRET)"
   ]
  },
  {
   "cell_type": "markdown",
   "metadata": {},
   "source": [
    "# Melakukan searching dengan Twitter API\n",
    "Di sini akan dilakukan pencarian yang berhubungan dengan term \"tsunami palu\", di sini untuk contoh saja akan diambil 100 tweet mengenai tsunami palu"
   ]
  },
  {
   "cell_type": "code",
   "execution_count": 4,
   "metadata": {},
   "outputs": [],
   "source": [
    "term = 'tsunami palu'\n",
    "tweet_metadatas = t.search(q=term,count=100,result_type='recent')"
   ]
  },
  {
   "cell_type": "markdown",
   "metadata": {},
   "source": [
    "## Berikut ini salah satu tweet yang diambil dan dibuat ke dalam bentuk JSON"
   ]
  },
  {
   "cell_type": "code",
   "execution_count": 5,
   "metadata": {},
   "outputs": [
    {
     "name": "stdout",
     "output_type": "stream",
     "text": [
      "{'created_at': 'Fri Oct 26 05:06:17 +0000 2018', 'id': 1055687035275657216, 'id_str': '1055687035275657216', 'text': 'Remain attached to Allah during your happiness, and during your sadness....\\nJumat 26 Oktober 2018 , tepat 1 bulan b… https://t.co/Pg6BXhm7Vt', 'truncated': True, 'entities': {'hashtags': [], 'symbols': [], 'user_mentions': [], 'urls': [{'url': 'https://t.co/Pg6BXhm7Vt', 'expanded_url': 'https://twitter.com/i/web/status/1055687035275657216', 'display_url': 'twitter.com/i/web/status/1…', 'indices': [117, 140]}]}, 'metadata': {'iso_language_code': 'in', 'result_type': 'recent'}, 'source': '<a href=\"http://instagram.com\" rel=\"nofollow\">Instagram</a>', 'in_reply_to_status_id': None, 'in_reply_to_status_id_str': None, 'in_reply_to_user_id': None, 'in_reply_to_user_id_str': None, 'in_reply_to_screen_name': None, 'user': {'id': 67563219, 'id_str': '67563219', 'name': 'Rie_elbisri', 'screen_name': 'ririelbisri', 'location': 'Seoul south Korea', 'description': \"i'm beautiful like me\", 'url': 'https://t.co/W0ikEiqB9f', 'entities': {'url': {'urls': [{'url': 'https://t.co/W0ikEiqB9f', 'expanded_url': 'http://seribuguru.org', 'display_url': 'seribuguru.org', 'indices': [0, 23]}]}, 'description': {'urls': []}}, 'protected': False, 'followers_count': 302, 'friends_count': 149, 'listed_count': 2, 'created_at': 'Fri Aug 21 08:51:57 +0000 2009', 'favourites_count': 140, 'utc_offset': None, 'time_zone': None, 'geo_enabled': True, 'verified': False, 'statuses_count': 7928, 'lang': 'en', 'contributors_enabled': False, 'is_translator': False, 'is_translation_enabled': False, 'profile_background_color': 'C0DEED', 'profile_background_image_url': 'http://abs.twimg.com/images/themes/theme1/bg.png', 'profile_background_image_url_https': 'https://abs.twimg.com/images/themes/theme1/bg.png', 'profile_background_tile': True, 'profile_image_url': 'http://pbs.twimg.com/profile_images/956069583231901696/Y-9BtLhj_normal.jpg', 'profile_image_url_https': 'https://pbs.twimg.com/profile_images/956069583231901696/Y-9BtLhj_normal.jpg', 'profile_banner_url': 'https://pbs.twimg.com/profile_banners/67563219/1445421116', 'profile_link_color': '0084B4', 'profile_sidebar_border_color': 'C0DEED', 'profile_sidebar_fill_color': 'DDEEF6', 'profile_text_color': '333333', 'profile_use_background_image': True, 'has_extended_profile': True, 'default_profile': False, 'default_profile_image': False, 'following': False, 'follow_request_sent': False, 'notifications': False, 'translator_type': 'none'}, 'geo': {'type': 'Point', 'coordinates': [-0.901667, 119.86]}, 'coordinates': {'type': 'Point', 'coordinates': [119.86, -0.901667]}, 'place': {'id': 'b447f213a7c7c53a', 'url': 'https://api.twitter.com/1.1/geo/id/b447f213a7c7c53a.json', 'place_type': 'city', 'name': 'Palu Barat', 'full_name': 'Palu Barat, Indonesia', 'country_code': 'ID', 'country': 'Indonesia', 'contained_within': [], 'bounding_box': {'type': 'Polygon', 'coordinates': [[[119.75788, -0.94369], [119.876574, -0.94369], [119.876574, -0.7951891], [119.75788, -0.7951891]]]}, 'attributes': {}}, 'contributors': None, 'is_quote_status': False, 'retweet_count': 0, 'favorite_count': 0, 'favorited': False, 'retweeted': False, 'possibly_sensitive': False, 'lang': 'in'}\n"
     ]
    }
   ],
   "source": [
    "print(tweet_metadatas['statuses'][0])"
   ]
  },
  {
   "cell_type": "markdown",
   "metadata": {},
   "source": [
    "## Contoh salah satu isi tweet"
   ]
  },
  {
   "cell_type": "code",
   "execution_count": 6,
   "metadata": {},
   "outputs": [
    {
     "name": "stdout",
     "output_type": "stream",
     "text": [
      "Remain attached to Allah during your happiness, and during your sadness....\n",
      "Jumat 26 Oktober 2018 , tepat 1 bulan b… https://t.co/Pg6BXhm7Vt\n"
     ]
    }
   ],
   "source": [
    "print(tweet_metadatas['statuses'][0]['text'])"
   ]
  },
  {
   "cell_type": "markdown",
   "metadata": {},
   "source": [
    "## Mengambil user yang membuat tweet"
   ]
  },
  {
   "cell_type": "code",
   "execution_count": 7,
   "metadata": {},
   "outputs": [
    {
     "name": "stdout",
     "output_type": "stream",
     "text": [
      "ririelbisri\n"
     ]
    }
   ],
   "source": [
    "print(tweet_metadatas['statuses'][0]['user']['screen_name'])"
   ]
  },
  {
   "cell_type": "markdown",
   "metadata": {},
   "source": [
    "## Untuk melihat jumlah teman user yang ngetweet dan jumlah followersnya"
   ]
  },
  {
   "cell_type": "code",
   "execution_count": 8,
   "metadata": {},
   "outputs": [
    {
     "name": "stdout",
     "output_type": "stream",
     "text": [
      "149 302\n"
     ]
    }
   ],
   "source": [
    "print(tweet_metadatas['statuses'][0]['user']['friends_count'],tweet_metadatas['statuses'][0]['user']['followers_count'],)"
   ]
  },
  {
   "cell_type": "markdown",
   "metadata": {},
   "source": [
    "# Menyimpan Data hasil Scrap ke dalam tabel\n",
    "Data yang akan disimpan adalah tweet dan siapa yg melakukan tweet"
   ]
  },
  {
   "cell_type": "markdown",
   "metadata": {},
   "source": [
    "## menyimpan data yang diperoleh ke dalam list of dictionary"
   ]
  },
  {
   "cell_type": "code",
   "execution_count": 9,
   "metadata": {},
   "outputs": [],
   "source": [
    "data_list = []\n",
    "\n",
    "for tweet in tweet_metadatas['statuses']:\n",
    "    meta = dict()\n",
    "    meta['tweet'] = tweet['text']\n",
    "    meta['timestamp'] = tweet['created_at']\n",
    "    meta['username'] = tweet['user']['screen_name']\n",
    "    \n",
    "    data_list.append(meta)"
   ]
  },
  {
   "cell_type": "markdown",
   "metadata": {},
   "source": [
    "## membuat tabel untuk menyimpan data"
   ]
  },
  {
   "cell_type": "code",
   "execution_count": 10,
   "metadata": {},
   "outputs": [
    {
     "data": {
      "text/html": [
       "<div>\n",
       "<style scoped>\n",
       "    .dataframe tbody tr th:only-of-type {\n",
       "        vertical-align: middle;\n",
       "    }\n",
       "\n",
       "    .dataframe tbody tr th {\n",
       "        vertical-align: top;\n",
       "    }\n",
       "\n",
       "    .dataframe thead th {\n",
       "        text-align: right;\n",
       "    }\n",
       "</style>\n",
       "<table border=\"1\" class=\"dataframe\">\n",
       "  <thead>\n",
       "    <tr style=\"text-align: right;\">\n",
       "      <th></th>\n",
       "      <th>timestamp</th>\n",
       "      <th>tweet</th>\n",
       "      <th>username</th>\n",
       "    </tr>\n",
       "  </thead>\n",
       "  <tbody>\n",
       "    <tr>\n",
       "      <th>0</th>\n",
       "      <td>Fri Oct 26 05:06:17 +0000 2018</td>\n",
       "      <td>Remain attached to Allah during your happiness...</td>\n",
       "      <td>ririelbisri</td>\n",
       "    </tr>\n",
       "    <tr>\n",
       "      <th>1</th>\n",
       "      <td>Fri Oct 26 05:04:30 +0000 2018</td>\n",
       "      <td>RT @vivi_banseng: Mau #memetwit soal kondisi d...</td>\n",
       "      <td>NiaAdila2</td>\n",
       "    </tr>\n",
       "    <tr>\n",
       "      <th>2</th>\n",
       "      <td>Fri Oct 26 05:04:23 +0000 2018</td>\n",
       "      <td>RT @vivi_banseng: Mau #memetwit soal kondisi d...</td>\n",
       "      <td>AtikaJuanita</td>\n",
       "    </tr>\n",
       "    <tr>\n",
       "      <th>3</th>\n",
       "      <td>Fri Oct 26 05:01:41 +0000 2018</td>\n",
       "      <td>RT @MetroTVNewsRoom: Bencana alam gempa bumi d...</td>\n",
       "      <td>indahyunih</td>\n",
       "    </tr>\n",
       "    <tr>\n",
       "      <th>4</th>\n",
       "      <td>Fri Oct 26 05:00:43 +0000 2018</td>\n",
       "      <td>RT @vivi_banseng: Mau #memetwit soal kondisi d...</td>\n",
       "      <td>Kamyl_Aly</td>\n",
       "    </tr>\n",
       "  </tbody>\n",
       "</table>\n",
       "</div>"
      ],
      "text/plain": [
       "                        timestamp  \\\n",
       "0  Fri Oct 26 05:06:17 +0000 2018   \n",
       "1  Fri Oct 26 05:04:30 +0000 2018   \n",
       "2  Fri Oct 26 05:04:23 +0000 2018   \n",
       "3  Fri Oct 26 05:01:41 +0000 2018   \n",
       "4  Fri Oct 26 05:00:43 +0000 2018   \n",
       "\n",
       "                                               tweet      username  \n",
       "0  Remain attached to Allah during your happiness...   ririelbisri  \n",
       "1  RT @vivi_banseng: Mau #memetwit soal kondisi d...     NiaAdila2  \n",
       "2  RT @vivi_banseng: Mau #memetwit soal kondisi d...  AtikaJuanita  \n",
       "3  RT @MetroTVNewsRoom: Bencana alam gempa bumi d...    indahyunih  \n",
       "4  RT @vivi_banseng: Mau #memetwit soal kondisi d...     Kamyl_Aly  "
      ]
     },
     "execution_count": 10,
     "metadata": {},
     "output_type": "execute_result"
    }
   ],
   "source": [
    "import pandas as pd\n",
    "data = pd.DataFrame(data_list)\n",
    "data.head()"
   ]
  },
  {
   "cell_type": "markdown",
   "metadata": {},
   "source": [
    "## menyimpan ke dalam xlsx"
   ]
  },
  {
   "cell_type": "code",
   "execution_count": 11,
   "metadata": {},
   "outputs": [],
   "source": [
    "writer = pd.ExcelWriter('result.xlsx')\n",
    "data.to_excel(writer,'Sheet1',index=False)\n",
    "writer.save()"
   ]
  },
  {
   "cell_type": "markdown",
   "metadata": {},
   "source": [
    "## menyimpan ke dalam csv"
   ]
  },
  {
   "cell_type": "code",
   "execution_count": 12,
   "metadata": {},
   "outputs": [],
   "source": [
    "data.to_csv('result.csv',index=False)"
   ]
  },
  {
   "cell_type": "code",
   "execution_count": null,
   "metadata": {},
   "outputs": [],
   "source": []
  }
 ],
 "metadata": {
  "kernelspec": {
   "display_name": "Python 3",
   "language": "python",
   "name": "python3"
  },
  "language_info": {
   "codemirror_mode": {
    "name": "ipython",
    "version": 3
   },
   "file_extension": ".py",
   "mimetype": "text/x-python",
   "name": "python",
   "nbconvert_exporter": "python",
   "pygments_lexer": "ipython3",
   "version": "3.6.5"
  }
 },
 "nbformat": 4,
 "nbformat_minor": 2
}
