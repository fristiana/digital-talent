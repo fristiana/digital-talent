{
 "cells": [
  {
   "cell_type": "markdown",
   "metadata": {},
   "source": [
    "# Tugas 2 dan 3\n",
    "Ayuningtyas Hari Fristiana, Kelas BD-B"
   ]
  },
  {
   "cell_type": "markdown",
   "metadata": {},
   "source": [
    "# LATIHAN 2 - Tugas List Nilai\n",
    "Diberikan sekumpulan Nilai Random antara 0 sampai dengan 100 sebanyak 250 nilai. Buatlah program untuk melakukan hal berikut:"
   ]
  },
  {
   "cell_type": "markdown",
   "metadata": {},
   "source": [
    "1. Tampilkan Angka Ganjil dari ke 250 nilai tersebut\n",
    "2. Tampilkan berapa banyak yang mendapatkan nilai lebih dari 70\n",
    "3. Tampilkan standar deviasi dari sekumpulan nilai tersebut\n",
    "4. Tampilkan nilai maksimum dan minimum\n",
    "5. Tampilkan modus dari sekumpulan nilai tersebut"
   ]
  },
  {
   "cell_type": "code",
   "execution_count": 1,
   "metadata": {},
   "outputs": [
    {
     "name": "stdout",
     "output_type": "stream",
     "text": [
      "[46, 86, 86, 43, 29, 42, 49, 21, 42, 49, 53, 60, 5, 74, 74, 30, 99, 27, 82, 55, 41, 5, 13, 17, 28, 71, 55, 85, 39, 95, 5, 98, 4, 29, 81, 82, 36, 33, 14, 36, 49, 73, 92, 13, 39, 50, 52, 19, 82, 65, 71, 14, 54, 25, 21, 27, 16, 11, 90, 8, 77, 7, 62, 48, 75, 90, 36, 65, 14, 33, 12, 48, 78, 27, 45, 11, 82, 68, 89, 3, 25, 73, 15, 82, 45, 13, 69, 93, 73, 39, 83, 11, 93, 49, 50, 27, 30, 64, 89, 76, 99, 98, 87, 30, 69, 10, 50, 31, 38, 24, 67, 3, 46, 88, 49, 94, 10, 64, 20, 79, 79, 94, 33, 46, 9, 65, 96, 26, 52, 72, 21, 4, 13, 10, 33, 86, 66, 41, 36, 85, 69, 68, 69, 71, 63, 55, 46, 4, 51, 55, 72, 43, 61, 93, 5, 82, 28, 90, 42, 99, 44, 77, 5, 75, 51, 35, 95, 23, 3, 11, 44, 98, 49, 85, 67, 59, 89, 30, 1, 87, 38, 18, 90, 78, 99, 12, 59, 51, 94, 40, 18, 53, 59, 33, 10, 70, 97, 4, 86, 28, 56, 50, 87, 14, 57, 19, 92, 25, 37, 5, 23, 39, 3, 85, 82, 92, 61, 5, 86, 36, 14, 93, 60, 76, 8, 4, 57, 23, 36, 23, 56, 66, 77, 36, 68, 49, 52, 18, 10, 46, 22, 26, 88, 45, 53, 64, 59, 30, 92, 17]\n"
     ]
    }
   ],
   "source": [
    "import random\n",
    "\n",
    "# GENERATE RANDOM\n",
    "nilaiTugas = []\n",
    "for i in range(250):\n",
    "    nilaiTugas.append(random.randrange(1,100,1))\n",
    "\n",
    "print(nilaiTugas)"
   ]
  },
  {
   "cell_type": "markdown",
   "metadata": {},
   "source": [
    "### 1. Tampilkan Angka Ganjil dari ke 250 nilai tersebut"
   ]
  },
  {
   "cell_type": "code",
   "execution_count": 2,
   "metadata": {},
   "outputs": [
    {
     "name": "stdout",
     "output_type": "stream",
     "text": [
      "[43, 29, 49, 21, 49, 53, 5, 99, 27, 55, 41, 5, 13, 17, 71, 55, 85, 39, 95, 5, 29, 81, 33, 49, 73, 13, 39, 19, 65, 71, 25, 21, 27, 11, 77, 7, 75, 65, 33, 27, 45, 11, 89, 3, 25, 73, 15, 45, 13, 69, 93, 73, 39, 83, 11, 93, 49, 27, 89, 99, 87, 69, 31, 67, 3, 49, 79, 79, 33, 9, 65, 21, 13, 33, 41, 85, 69, 69, 71, 63, 55, 51, 55, 43, 61, 93, 5, 99, 77, 5, 75, 51, 35, 95, 23, 3, 11, 49, 85, 67, 59, 89, 1, 87, 99, 59, 51, 53, 59, 33, 97, 87, 57, 19, 25, 37, 5, 23, 39, 3, 85, 61, 5, 93, 57, 23, 23, 77, 49, 45, 53, 59, 17]\n"
     ]
    }
   ],
   "source": [
    "angkaGanjil = []\n",
    "for n in nilaiTugas:\n",
    "    if n%2 != 0:\n",
    "        angkaGanjil.append(n)\n",
    "\n",
    "print(angkaGanjil)"
   ]
  },
  {
   "cell_type": "markdown",
   "metadata": {},
   "source": [
    "### 2. Tampilkan berapa banyak yang mendapatkan nilai lebih dari 70"
   ]
  },
  {
   "cell_type": "code",
   "execution_count": 23,
   "metadata": {},
   "outputs": [
    {
     "name": "stdout",
     "output_type": "stream",
     "text": [
      "Jumlah siswa yang mendapatkan nilai lebih dari 7 adalah sebanyak = 73\n"
     ]
    }
   ],
   "source": [
    "nilaiLebih70 = []\n",
    "for n in nilaiTugas:\n",
    "    if n>70:\n",
    "        nilaiLebih70.append(n)\n",
    "\n",
    "# print(nilaiLebih70)\n",
    "print('Jumlah siswa yang mendapatkan nilai lebih dari 7 adalah sebanyak =',len(nilaiLebih70))"
   ]
  },
  {
   "cell_type": "markdown",
   "metadata": {},
   "source": [
    "### 3. Tampilkan standar deviasi dari sekumpulan nilai tersebut"
   ]
  },
  {
   "cell_type": "code",
   "execution_count": 12,
   "metadata": {},
   "outputs": [
    {
     "name": "stdout",
     "output_type": "stream",
     "text": [
      "Standar Deviasi = 28.794450854287884\n"
     ]
    }
   ],
   "source": [
    "N = len(nilaiTugas)\n",
    "total = 0\n",
    "\n",
    "for i in nilaiTugas:\n",
    "    total = total+i\n",
    "    \n",
    "rata = total/N\n",
    "\n",
    "pembilang = 0\n",
    "for j in nilaiTugas:\n",
    "    pembilang = pembilang + ((j-rata)**2)\n",
    "\n",
    "import math\n",
    "standardDeviation = math.sqrt(penyebut/N)\n",
    "print('Standar Deviasi =', standardDeviation)"
   ]
  },
  {
   "cell_type": "markdown",
   "metadata": {},
   "source": [
    "### 4. Tampilkan nilai maksimum dan minimum"
   ]
  },
  {
   "cell_type": "code",
   "execution_count": 5,
   "metadata": {},
   "outputs": [
    {
     "name": "stdout",
     "output_type": "stream",
     "text": [
      "Nilai Maksimum= 99\n",
      "Nilai Minimum= 1\n"
     ]
    }
   ],
   "source": [
    "nilaiMaks = nilaiTugas[0]\n",
    "nilaiMin = nilaiTugas[0]\n",
    "for n in nilaiTugas:\n",
    "    if(n>nilaiMaks):\n",
    "        nilaiMaks = n\n",
    "    if(n<nilaiMin):\n",
    "        nilaiMin = n\n",
    "\n",
    "print('Nilai Maksimum=', nilaiMaks)\n",
    "print('Nilai Minimum=', nilaiMin)"
   ]
  },
  {
   "cell_type": "markdown",
   "metadata": {},
   "source": [
    "### 5. Tampilkan modus dari sekumpulan nilai tersebut"
   ]
  },
  {
   "cell_type": "code",
   "execution_count": 24,
   "metadata": {},
   "outputs": [
    {
     "name": "stdout",
     "output_type": "stream",
     "text": [
      "Modus data dengan frekuensi terbanyak yaitu frekuensi = 7 \n",
      "Modus nya adalah sebagai berikut: [5, 36, 49, 82]\n"
     ]
    }
   ],
   "source": [
    "nilaiKeys = set(nilaiTugas)\n",
    "# print(dictionaryNilaiTugasKeys)\n",
    "listKeys = list(nilaiKeys)\n",
    "# print(listKeys)\n",
    "\n",
    "maksFrequency = 0\n",
    "modusData = []\n",
    "dictionaryNilai = {}\n",
    "for k in listKeys:\n",
    "    n_freq = nilaiTugas.count(k)\n",
    "    dictionaryNilai[k] = n_freq\n",
    "    if n_freq>maksFrequency:\n",
    "        maksFrequency = n_freq\n",
    "\n",
    "# print(dictionaryNilai)\n",
    "\n",
    "for k,v in dictionaryNilai.items():\n",
    "    if v == maksFrequency:\n",
    "        modusData.append(k)\n",
    "        \n",
    "print('Modus data dengan frekuensi terbanyak yaitu frekuensi =',maksFrequency, '\\nModus nya adalah sebagai berikut:',modusData)"
   ]
  },
  {
   "cell_type": "markdown",
   "metadata": {},
   "source": [
    "# LATIHAN 3 - Word Count"
   ]
  },
  {
   "cell_type": "code",
   "execution_count": 35,
   "metadata": {},
   "outputs": [
    {
     "name": "stdout",
     "output_type": "stream",
     "text": [
      "Barcelona berhasil merebut posisi puncak klasemen La Liga Spanyol seusai menang 4-2 atas Sevilla pada pertandingan pekan kesembilan di Stadion Camp Nou, Sabtu (20/10/2018) atau Minggu dini hari WIB. Barcelona membuka keunggulan pada menit ke-2 melalui gol yang dicetak oleh Philippe Coutinho. Lionel Messi menggandakan keunggulan Barcelona, 10 menit berselang.  Namun, nahas bagi Barcelona, karena Messi harus ditarik keluar pada menit ke-26 setelah mengalami cedera. Tanpa Messi, skor 2-0 bertahan hingga babak pertama berakhir.\n",
      "\n",
      "\n",
      "Word Count dari paragraf di atas adalah sebagai berikut\n",
      "• melalui : 1\n",
      "• Lionel : 1\n",
      "• di : 1\n",
      "• harus : 1\n",
      "• setelah : 1\n",
      "• skor : 1\n",
      "• Barcelona : 4\n",
      "• kesembilan : 1\n",
      "• nahas : 1\n",
      "• Sabtu : 1\n",
      "• klasemen : 1\n",
      "• atas : 1\n",
      "• Stadion : 1\n",
      "• ke : 2\n",
      "• Philippe : 1\n",
      "• Messi : 3\n",
      "• menggandakan : 1\n",
      "• babak : 1\n",
      "• Coutinho : 1\n",
      "• dicetak : 1\n",
      "• berhasil : 1\n",
      "• pada : 3\n",
      "• Liga : 1\n",
      "• 10 : 2\n",
      "• cedera : 1\n",
      "• posisi : 1\n",
      "• atau : 1\n",
      "• mengalami : 1\n",
      "• menang : 1\n",
      "• La : 1\n",
      "• keluar : 1\n",
      "• 0 : 1\n",
      "• ditarik : 1\n",
      "• pertandingan : 1\n",
      "• merebut : 1\n",
      "• 4 : 1\n",
      "• pekan : 1\n",
      "• Camp : 1\n",
      "• berselang : 1\n",
      "• bagi : 1\n",
      "• WIB : 1\n",
      "• Nou : 1\n",
      "• Sevilla : 1\n",
      "• hari : 1\n",
      "• karena : 1\n",
      "• 26 : 1\n",
      "• hingga : 1\n",
      "• 20 : 1\n",
      "• 2018 : 1\n",
      "• seusai : 1\n",
      "• Namun : 1\n",
      "• yang : 1\n",
      "• gol : 1\n",
      "• Tanpa : 1\n",
      "• menit : 3\n",
      "• Spanyol : 1\n",
      "• bertahan : 1\n",
      "• 2 : 3\n",
      "• berakhir : 1\n",
      "• keunggulan : 2\n",
      "• oleh : 1\n",
      "• puncak : 1\n",
      "• pertama : 1\n",
      "• dini : 1\n",
      "• Minggu : 1\n",
      "• membuka : 1\n"
     ]
    }
   ],
   "source": [
    "paragraf = \"Barcelona berhasil merebut posisi puncak klasemen La Liga Spanyol seusai menang 4-2 atas Sevilla pada pertandingan pekan kesembilan di Stadion Camp Nou, Sabtu (20/10/2018) atau Minggu dini hari WIB. Barcelona membuka keunggulan pada menit ke-2 melalui gol yang dicetak oleh Philippe Coutinho. Lionel Messi menggandakan keunggulan Barcelona, 10 menit berselang.  Namun, nahas bagi Barcelona, karena Messi harus ditarik keluar pada menit ke-26 setelah mengalami cedera. Tanpa Messi, skor 2-0 bertahan hingga babak pertama berakhir.\"\n",
    "print(paragraf)\n",
    "#bersiin dari special character\n",
    "paragraf = paragraf.replace(\"-\", \" \")\n",
    "paragraf = paragraf.replace(\"/\", \" \")\n",
    "paragraf = paragraf.replace(\",\", \" \")\n",
    "paragraf = paragraf.replace(\"(\",\" \")\n",
    "paragraf = paragraf.replace(\")\", \" \")\n",
    "#ubah jadi huruf kecil semua\n",
    "paragraf.lower()\n",
    "#dipecah menjadi kalimat-kalimat\n",
    "kalimat = paragraf.split('.')\n",
    "kata = []\n",
    "# masing-masing kalimat dipecah menjadi kata\n",
    "for k in kalimat:\n",
    "    kata.append(k.strip().split())\n",
    "\n",
    "# gabungin jadi 1 list\n",
    "listKata = []\n",
    "for k in kata:\n",
    "    listKata = listKata + k\n",
    "\n",
    "# print(listKata)\n",
    "# get unique word\n",
    "mySet = set(listKata)\n",
    "myDictionary = {}\n",
    "for i in mySet:\n",
    "    myDictionary[i] = listKata.count(i)\n",
    "\n",
    "# print(myDictionary)\n",
    "print('\\n\\nWord Count dari paragraf di atas adalah sebagai berikut')\n",
    "for k,v in myDictionary.items():\n",
    "        print('\\u2022',k,':',v)"
   ]
  },
  {
   "cell_type": "code",
   "execution_count": null,
   "metadata": {},
   "outputs": [],
   "source": []
  }
 ],
 "metadata": {
  "kernelspec": {
   "display_name": "Python 3",
   "language": "python",
   "name": "python3"
  },
  "language_info": {
   "codemirror_mode": {
    "name": "ipython",
    "version": 3
   },
   "file_extension": ".py",
   "mimetype": "text/x-python",
   "name": "python",
   "nbconvert_exporter": "python",
   "pygments_lexer": "ipython3",
   "version": "3.6.5"
  }
 },
 "nbformat": 4,
 "nbformat_minor": 2
}
