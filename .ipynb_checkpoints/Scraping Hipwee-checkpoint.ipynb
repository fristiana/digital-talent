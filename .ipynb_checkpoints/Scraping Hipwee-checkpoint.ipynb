{
 "cells": [
  {
   "cell_type": "markdown",
   "metadata": {},
   "source": [
    "# Scraping hipwee.com\n",
    "\n",
    "Pada python notebook ini akan dijelaskan mengenai scraping artikel dalam hipwee.com\n",
    "Scraping dimulai dari halaman awal, lalu akan menelusuri setiap link, dan akan mengambil artikel beserta properties lainnya.\n",
    "\n",
    "## Inisialisasi Url Lib\n",
    "\n",
    "urllib merupakan modul python untuk mengakses halaman web. Digunakan fungsi urlopen dan read untuk membaca kode HTML. Dapat dilihat r merupakan string HTML.\n"
   ]
  },
  {
   "cell_type": "code",
   "execution_count": 9,
   "metadata": {},
   "outputs": [
    {
     "name": "stdout",
     "output_type": "stream",
     "text": [
      "<class 'bytes'>\n",
      "b'!DOCTYPE html> <!--[if lt IE 7 ]><html class=\"ie ie6 ie-lt10 ie-lt9 ie-lt8 ie-lt7 no-js\" lang=\"id-ID\"> <![endif]--> <!--[if IE 7 ]><html class=\"ie ie7 ie-lt10 ie-lt9 ie-lt8 no-js\" lang=\"id-ID\"> <![endif]--> <!--[if IE 8 ]><html class=\"ie ie8 ie-lt10 ie-lt9 no-js\" lang=\"id-ID\"> <![endif]--> <!--[if IE 9 ]><html class=\"ie ie9 ie-lt10 no-js\" lang=\"id-ID\"> <![endif]--> <!--[if gt IE 9]> <!--><html class=\"no-js\" lang=\"id-ID\" xmlns=\"http://www.w3.org/1999/xhtml\" xmlns:og=\"http://ogp.me/ns#\" xmlns:fb=\"https://www.facebook.com/2008/fbml\"> <!--<![endif]--><head data-template-set=\"html5-reset-wordpress-theme\" prefix=\"og: http://ogp.me/ns# fb: http://ogp.me/ns/fb# article: http://ogp.me/ns/article#\"><link rel=\"stylesheet\" type=\"text/css\" href=\"https://www.hipwee.com/wp-content/cache/minify/daa4a.default.include.84ede9.css\" media=\"all\" /> <script type=\"text/javascript\" src=\"https://www.hipwee.com/wp-content/cache/minify/daa4a.default.include.d4d6c9.js\"></script> <meta charset=\"UTF-8\" /><meta http'\n"
     ]
    }
   ],
   "source": [
    "# ini klo di python 3\n",
    "import urllib.request\n",
    "\n",
    "r = urllib.request.urlopen('https://www.hipwee.com/community/').read()\n",
    "print(type(r))\n",
    "print(r[1:1000])\n",
    "\n",
    "# klo python 2 gunainnya ini ya\n",
    "# import urllib\n",
    "\n",
    "# r = urllib.urlopen('http://tekno.kompas.com/').read()\n",
    "# print(type(r))\n",
    "# print(r[1:1000])"
   ]
  },
  {
   "cell_type": "markdown",
   "metadata": {},
   "source": [
    "### Inisialisasi BeautifulSoup\n",
    "\n",
    "Untuk membantu dalam proses web scraping digunakan modul beautifulsoup.\n",
    "\n",
    "Pertama tama diimport dahulu modulnya, lalu string r diubah menjadi objek beautiful soup dan digunakan parser lxml\n",
    "\n",
    "Jika di print soup nya, sekilas terlihat seperti string HTML, namun sebenarnya itu merupakan sebuah objek soup yang bisa ditelusri setiap elemennya!"
   ]
  },
  {
   "cell_type": "code",
   "execution_count": 10,
   "metadata": {},
   "outputs": [
    {
     "name": "stdout",
     "output_type": "stream",
     "text": [
      "<class 'bs4.BeautifulSoup'>\n",
      "!DOCTYPE html>\n",
      "<!--[if lt IE 7 ]><html class=\"ie ie6 ie-lt10 ie-lt9 ie-lt8 ie-lt7 no-js\" lang=\"id-ID\"> <![endif]-->\n",
      "<!--[if IE 7 ]><html class=\"ie ie7 ie-lt10 ie-lt9 ie-lt8 no-js\" lang=\"id-ID\"> <![endif]-->\n",
      "<!--[if IE 8 ]><html class=\"ie ie8 ie-lt10 ie-lt9 no-js\" lang=\"id-ID\"> <![endif]-->\n",
      "<!--[if IE 9 ]><html class=\"ie ie9 ie-lt10 no-js\" lang=\"id-ID\"> <![endif]-->\n",
      "<!--[if gt IE 9]> <!-->\n",
      "<html class=\"no-js\" lang=\"id-ID\" xmlns=\"http://www.w3.org/1999/xhtml\" xmlns:fb=\"https://www.facebook.com/2008/fbml\" xmlns:og=\"http://ogp.me/ns#\">\n",
      " <!--<![endif]-->\n",
      " <head data-template-set=\"html5-reset-wordpress-theme\" prefix=\"og: http://ogp.me/ns# fb: http://ogp.me/ns/fb# article: http://ogp.me/ns/article#\">\n",
      "  <link href=\"https://www.hipwee.com/wp-content/cache/minify/daa4a.default.include.84ede9.css\" media=\"all\" rel=\"stylesheet\" type=\"text/css\"/>\n",
      "  <script src=\"https://www.hipwee.com/wp-content/cache/minify/daa4a.default.include.d4d6c9.js\" type=\"text/javascript\">\n",
      "  </script>\n",
      "  <meta charset=\"utf-8\"\n"
     ]
    }
   ],
   "source": [
    "from bs4 import BeautifulSoup \n",
    "\n",
    "soup = BeautifulSoup(r,\"lxml\")\n",
    "print(type(soup))\n",
    "print(soup.prettify()[1:1000])"
   ]
  },
  {
   "cell_type": "markdown",
   "metadata": {},
   "source": [
    "### Dapatkan Semua Link\n",
    "\n",
    "Untuk mendapatkan semua link kita dapat mencari semua tag html \"a\". Namun tentunya tidak semua hasilnya merupakan link artikel. perlu kita filter terlebih dahulu."
   ]
  },
  {
   "cell_type": "code",
   "execution_count": 11,
   "metadata": {},
   "outputs": [
    {
     "name": "stdout",
     "output_type": "stream",
     "text": [
      "99\n",
      ": https://www.hipwee.com/community/\n",
      "Beranda: https://www.hipwee.com/\n",
      "Terpopuler: https://www.hipwee.com/community/trending/\n",
      "Terbaru: https://www.hipwee.com/community/\n",
      "Editor's Pick: https://www.hipwee.com/editors-pick/\n",
      "Event: https://www.hipwee.com/events/\n",
      "Tulis Artikel: https://www.hipwee.com/dashboard/\n",
      "Tulis Artikel: https://www.hipwee.com/login\n",
      ": #search\n",
      "Listicle: https://www.hipwee.com/community/?type=list/\n",
      "Quiz: https://www.hipwee.com/community/?type=quiz/\n",
      "Opini: https://www.hipwee.com/community/?type=opini/\n",
      "Narasi: https://www.hipwee.com/community/?type=narasi/\n",
      "Hari Ini: https://www.hipwee.com/community/trending/\n",
      "7 Hari: https://www.hipwee.com/community/trending/?days=7/\n",
      "30 Hari: https://www.hipwee.com/community/trending/?days=30/\n",
      "All: https://www.hipwee.com/community/\n",
      "Listicle: https://www.hipwee.com/community/?type=list/\n",
      "Kuis: https://www.hipwee.com/community/?type=quiz/\n",
      "Opinion: https://www.hipwee.com/community/?type=opini/\n",
      "Narasi: https://www.hipwee.com/community/?type=narasi/\n",
      "#IniPlesirku: https://www.hipwee.com/community/?type=all&tema=10405\n",
      "Cinta: https://www.hipwee.com/community/?type=all&tema=1447\n",
      "Motivasi: https://www.hipwee.com/community/?type=all&tema=1437\n",
      "Inspirasi: https://www.hipwee.com/community/?type=all&tema=1450\n",
      "hubungan: https://www.hipwee.com/community/?type=all&tema=1434\n",
      "Kehidupan: https://www.hipwee.com/community/?type=all&tema=4287\n",
      "anak muda: https://www.hipwee.com/community/?type=all&tema=4189\n",
      "tips: https://www.hipwee.com/community/?type=all&tema=1435\n",
      "hiburan: https://www.hipwee.com/community/?type=all&tema=1431\n",
      "hidup: https://www.hipwee.com/community/?type=all&tema=4524\n",
      ": #\n",
      ": https://www.hipwee.com/narasi/kepada-senja-yang-berlabuh/\n",
      "https://ar.pinterest.com: https://ar.pinterest.com/\n",
      "Ardiani Ratna: https://www.hipwee.com/author/ardianiratna/\n",
      "Kepada Senja yang Berlabuh: https://www.hipwee.com/narasi/kepada-senja-yang-berlabuh/\n",
      ": https://www.hipwee.com/list/tak-disangka-5-makanan-ala-anak-muda-ini-jadi-buruan-di-luar-negeri/\n",
      "http://www.google.com: http://www.google.com/\n",
      "Ihsan Muhammad: https://www.hipwee.com/author/muhammadihsan4/\n",
      "Tak Disangka 5 Makanan ala Anak Muda ini Jadi Buruan di Luar Negeri: https://www.hipwee.com/list/tak-disangka-5-makanan-ala-anak-muda-ini-jadi-buruan-di-luar-negeri/\n",
      ": https://www.hipwee.com/narasi/puisihipwee-sahabat/\n",
      "https://www.nurlindayani12.com: https://www.nurlindayani12.com\n",
      "Littlepony Littlepony: https://www.hipwee.com/author/littleponylittlepony/\n",
      "#PuisiHipwee; Sahabat: https://www.hipwee.com/narasi/puisihipwee-sahabat/\n",
      ": https://www.hipwee.com/narasi/seharusnya-aku-yang-mendampingi-hari-harimu/\n",
      "http://www.google.com: http://www.google.com\n",
      "Nhatallya Crhystine: https://www.hipwee.com/author/nhatallyacrhystine/\n",
      "Seharusnya Aku yang Mendampingi Hari-harimu: https://www.hipwee.com/narasi/seharusnya-aku-yang-mendampingi-hari-harimu/\n",
      ": https://www.hipwee.com/list/buat-kamu-yang-mau-diet-tapi-nafsu-makan-selalu-membabi-buta-5-jurus-ini-perlu-banget-dicoba/\n",
      "https://pexels.com: https://pexels.com\n",
      "Suci Indahsari: https://www.hipwee.com/author/suciindahsari/\n",
      "Buat Kamu yang Mau Diet tapi Nafsu Makan Selalu Membabi Buta, 5 Jurus Ini Perlu Banget Dicoba!: https://www.hipwee.com/list/buat-kamu-yang-mau-diet-tapi-nafsu-makan-selalu-membabi-buta-5-jurus-ini-perlu-banget-dicoba/\n",
      ": https://www.hipwee.com/list/7-food-court-paling-hits-di-jakarta-ini-perlu-kamu-coba-biar-makan-siangmu-nggak-di-situ-situ-aja/\n",
      "https://google.com: https://google.com/\n",
      "Viatipaw: https://www.hipwee.com/author/viatipaw/\n",
      "7 Food Court Paling Hits di Jakarta Ini Perlu Kamu Coba. Biar Makan Siangmu Nggak di Situ-situ Aja: https://www.hipwee.com/list/7-food-court-paling-hits-di-jakarta-ini-perlu-kamu-coba-biar-makan-siangmu-nggak-di-situ-situ-aja/\n",
      ": https://www.hipwee.com/narasi/puisihipwee-aku-masih-rumah-yang-sama-dan-ada-yang-belum-usai/\n",
      "http://www.google.com: http://www.google.com\n",
      "DevinaWistiasari: https://www.hipwee.com/author/devinawistiasari/\n",
      "#PuisiHipwee; Aku Masih Rumah yang Sama dan Ada yang Belum Usai: https://www.hipwee.com/narasi/puisihipwee-aku-masih-rumah-yang-sama-dan-ada-yang-belum-usai/\n",
      ": https://www.hipwee.com/opini/bapak-dan-ungkapan-cintanya-yang-dingin/\n",
      "https://www.pexels.com: https://www.pexels.com/photo/photography-of-girl-riding-bike-beside-man-1005803/\n",
      "SukrisSusanti: https://www.hipwee.com/author/sukrissusanti/\n",
      "Bapak Memang Lelaki Paling Tidak Romantis di Dunia, tapi darinya Saya Belajar Tentang Cinta: https://www.hipwee.com/opini/bapak-dan-ungkapan-cintanya-yang-dingin/\n",
      ": https://www.hipwee.com/opini/5-cara-sederhana-biar-anak-nggak-terlalu-kecanduan-youtube-bu-ibu-yuk-pahami-dulu/\n",
      "https://www.raisingdigitalnatives.com: https://www.raisingdigitalnatives.com/wp-content/uploads/2018/06/leisure-activity-relaxation-lying-down-playing-cute-boy-toddler-rug-casual-smartphone-technology_t20_wa0PPL-1024x576.jpg\n",
      "andinfirdiani: https://www.hipwee.com/author/andinfirdiani/\n",
      "5 Cara Sederhana Biar Anak Nggak Terlalu Kecanduan Youtube. Bu-ibu Yuk Pahami Dulu!: https://www.hipwee.com/opini/5-cara-sederhana-biar-anak-nggak-terlalu-kecanduan-youtube-bu-ibu-yuk-pahami-dulu/\n",
      ": https://www.hipwee.com/list/7-hal-yang-bisa-dilakukan-istri-agar-buat-hati-suami-bahagia/\n",
      "https://www.google.co.id: https://www.google.co.id/\n",
      "nuriahansy: https://www.hipwee.com/author/nuriahansy/\n",
      "7 Hal yang Bisa Dilakukan Istri Agar Buat Hati Suami Bahagia..: https://www.hipwee.com/list/7-hal-yang-bisa-dilakukan-istri-agar-buat-hati-suami-bahagia/\n",
      ": https://www.hipwee.com/opini/harusnya-bahagia-itu-kita-sendiri-yang-ciptakan-mau-sampai-kapan-terus-mengandalkan-orang/\n",
      "https://www.pexels.com: https://www.pexels.com/photo/man-and-woman-sitting-while-facing-each-other-1496137/\n",
      "jatimoranca: https://www.hipwee.com/author/jatimoranca/\n",
      "Harusnya Bahagia itu Kita Sendiri yang Ciptakan. Mau Sampai Kapan Terus Mengandalkan Orang?: https://www.hipwee.com/opini/harusnya-bahagia-itu-kita-sendiri-yang-ciptakan-mau-sampai-kapan-terus-mengandalkan-orang/\n",
      ": https://www.hipwee.com/list/5-rekomendasi-tempat-ngopi-yang-unik-dan-nyaman-di-jakarta-barat-penikmat-kopi-yuk-merapat/\n",
      "http://google.com: http://google.com\n",
      "Adamramard: https://www.hipwee.com/author/adamramard/\n",
      "5 Rekomendasi Tempat Ngopi yang Unik dan Nyaman Di Jakarta Barat. Penikmat Kopi Yuk Merapat!: https://www.hipwee.com/list/5-rekomendasi-tempat-ngopi-yang-unik-dan-nyaman-di-jakarta-barat-penikmat-kopi-yuk-merapat/\n",
      "2: https://www.hipwee.com/community/page/2/\n",
      "3: https://www.hipwee.com/community/page/3/\n",
      "1.805: https://www.hipwee.com/community/page/1805/\n",
      "Berikutnya »: https://www.hipwee.com/community/page/2/\n",
      "Advertise: https://www.hipwee.com/advertise/\n",
      "Redaksi: https://www.hipwee.com/redaksi/\n",
      "Contact: https://www.hipwee.com/contact/\n",
      "Privacy Policy: https://www.hipwee.com/privacy-policy/\n",
      "FAQ Hipwee Community: https://www.hipwee.com/community/faq/\n",
      "Hipwee E-Book Series: Edisi Pengetahuan Umum: https://www.hipwee.com/hipwee-e-book-series/\n",
      "Lupa password?: https://www.hipwee.com/lost-password\n",
      "Daftar: https://www.hipwee.com/register\n",
      "Login dengan Facebook: https://www.hipwee.com/be-cool/?loginFacebook=1&redirect=https://www.hipwee.com/dashboard/\n",
      "Lupa password?: https://www.hipwee.com/lost-password\n",
      "Daftar: https://www.hipwee.com/register\n",
      "Login dengan Facebook: https://www.hipwee.com/be-cool/?loginFacebook=1&redirect=https://www.hipwee.com/community/\n",
      "Lupa password?: https://www.hipwee.com/lost-password\n",
      "Daftar: https://www.hipwee.com/register\n",
      "Login dengan Facebook: https://www.hipwee.com/be-cool/?loginFacebook=1&redirect=https://www.hipwee.com/community/?hipwee_action=follow&nonce=980eb39805\n"
     ]
    }
   ],
   "source": [
    "links = soup.find_all('a')\n",
    "print(len(links))\n",
    "\n",
    "for link in links:\n",
    "#     print(link)\n",
    "    print('%s: %s'%(link.text.strip(),link[\"href\"]))\n"
   ]
  },
  {
   "cell_type": "markdown",
   "metadata": {},
   "source": [
    "Dapat dilihat link yang merujuk ke artikel memiliki pola '/narasi/', '/opini/', ataupun ,'/list/' dan benar-benar link bukan javascript maupun link '#'. Maka dari itu bisa kita filter, dan hasilnya bisa kita simpan di sebuah list"
   ]
  },
  {
   "cell_type": "code",
   "execution_count": 20,
   "metadata": {},
   "outputs": [
    {
     "name": "stdout",
     "output_type": "stream",
     "text": [
      "22\n",
      ": https://www.hipwee.com/narasi/kepada-senja-yang-berlabuh/\n",
      "Kepada Senja yang Berlabuh: https://www.hipwee.com/narasi/kepada-senja-yang-berlabuh/\n",
      ": https://www.hipwee.com/narasi/puisihipwee-sahabat/\n",
      ": https://www.hipwee.com/narasi/seharusnya-aku-yang-mendampingi-hari-harimu/\n",
      "Seharusnya Aku yang Mendampingi Hari-harimu: https://www.hipwee.com/narasi/seharusnya-aku-yang-mendampingi-hari-harimu/\n",
      ": https://www.hipwee.com/narasi/puisihipwee-aku-masih-rumah-yang-sama-dan-ada-yang-belum-usai/\n",
      ": https://www.hipwee.com/opini/bapak-dan-ungkapan-cintanya-yang-dingin/\n",
      "Bapak Memang Lelaki Paling Tidak Romantis di Dunia, tapi darinya Saya Belajar Tentang Cinta: https://www.hipwee.com/opini/bapak-dan-ungkapan-cintanya-yang-dingin/\n",
      ": https://www.hipwee.com/opini/5-cara-sederhana-biar-anak-nggak-terlalu-kecanduan-youtube-bu-ibu-yuk-pahami-dulu/\n",
      "5 Cara Sederhana Biar Anak Nggak Terlalu Kecanduan Youtube. Bu-ibu Yuk Pahami Dulu!: https://www.hipwee.com/opini/5-cara-sederhana-biar-anak-nggak-terlalu-kecanduan-youtube-bu-ibu-yuk-pahami-dulu/\n",
      ": https://www.hipwee.com/opini/harusnya-bahagia-itu-kita-sendiri-yang-ciptakan-mau-sampai-kapan-terus-mengandalkan-orang/\n",
      "Harusnya Bahagia itu Kita Sendiri yang Ciptakan. Mau Sampai Kapan Terus Mengandalkan Orang?: https://www.hipwee.com/opini/harusnya-bahagia-itu-kita-sendiri-yang-ciptakan-mau-sampai-kapan-terus-mengandalkan-orang/\n",
      ": https://www.hipwee.com/list/tak-disangka-5-makanan-ala-anak-muda-ini-jadi-buruan-di-luar-negeri/\n",
      "Tak Disangka 5 Makanan ala Anak Muda ini Jadi Buruan di Luar Negeri: https://www.hipwee.com/list/tak-disangka-5-makanan-ala-anak-muda-ini-jadi-buruan-di-luar-negeri/\n",
      ": https://www.hipwee.com/list/buat-kamu-yang-mau-diet-tapi-nafsu-makan-selalu-membabi-buta-5-jurus-ini-perlu-banget-dicoba/\n",
      "Buat Kamu yang Mau Diet tapi Nafsu Makan Selalu Membabi Buta, 5 Jurus Ini Perlu Banget Dicoba!: https://www.hipwee.com/list/buat-kamu-yang-mau-diet-tapi-nafsu-makan-selalu-membabi-buta-5-jurus-ini-perlu-banget-dicoba/\n",
      ": https://www.hipwee.com/list/7-food-court-paling-hits-di-jakarta-ini-perlu-kamu-coba-biar-makan-siangmu-nggak-di-situ-situ-aja/\n",
      "7 Food Court Paling Hits di Jakarta Ini Perlu Kamu Coba. Biar Makan Siangmu Nggak di Situ-situ Aja: https://www.hipwee.com/list/7-food-court-paling-hits-di-jakarta-ini-perlu-kamu-coba-biar-makan-siangmu-nggak-di-situ-situ-aja/\n",
      ": https://www.hipwee.com/list/7-hal-yang-bisa-dilakukan-istri-agar-buat-hati-suami-bahagia/\n",
      "7 Hal yang Bisa Dilakukan Istri Agar Buat Hati Suami Bahagia..: https://www.hipwee.com/list/7-hal-yang-bisa-dilakukan-istri-agar-buat-hati-suami-bahagia/\n",
      ": https://www.hipwee.com/list/5-rekomendasi-tempat-ngopi-yang-unik-dan-nyaman-di-jakarta-barat-penikmat-kopi-yuk-merapat/\n",
      "5 Rekomendasi Tempat Ngopi yang Unik dan Nyaman Di Jakarta Barat. Penikmat Kopi Yuk Merapat!: https://www.hipwee.com/list/5-rekomendasi-tempat-ngopi-yang-unik-dan-nyaman-di-jakarta-barat-penikmat-kopi-yuk-merapat/\n"
     ]
    }
   ],
   "source": [
    "# berita_link = [link for link in links if '/read/' in str(link) and 'javascript:void(0)' not in str(link) \n",
    "#                and '#' not in str(link)]\n",
    "# print(len(berita_link))\n",
    "# for link in berita_link:\n",
    "#     print('%s: %s'%(link.text.strip(),link[\"href\"]))\n",
    "\n",
    "# keyword = '/narasi/'\n",
    "# artikel_link = [link for link in links if keyword in str(link) and 'javascript:void(0)' not in str(link) \n",
    "#                and '#' not in str(link)] + [link for link in links if '/opini/' in str(link) and 'javascript:void(0)' not in str(link) \n",
    "#                and '#' not in str(link)] + [link for link in links if '/list/' in str(link) and 'javascript:void(0)' not in str(link) \n",
    "#                and '#' not in str(link)]\n",
    "list_key_link = ['/narasi/', '/opini/', '/list/']\n",
    "artikel_link = []\n",
    "for i in list_key_link:\n",
    "    artikel_link = artikel_link + [link for link in links if i in str(link) and 'javascript:void(0)' not in str(link) \n",
    "               and '#' not in str(link)]\n",
    "print(len(artikel_link))\n",
    "for link in artikel_link:\n",
    "    print('%s: %s'%(link.text.strip(),link[\"href\"]))\n"
   ]
  },
  {
   "cell_type": "markdown",
   "metadata": {},
   "source": [
    "## Dapatkan Isi Artikel\n",
    "Sebelum kita menelusuri satu per satu kita perlu tahu dahulu struktur dari sebuah halaman artikel pada hipwee.com untuk mendapatkan properties yang kita inginkan.\n",
    "\n",
    "Gunakan inspect element!\n",
    "\n",
    "Misalkan disini ingin diambil judul artikel, isi artikel, beserta tanggal pembuatan artikel. Setelah dianalisa, judul berada pada elemen (di dalam div class aticle-title) h1 yang mempunyai class title, sedangkan isi artikel pada div yang mempunyai kelas post-content, dan tanggal span dengan class date (di dalam di class article-entry). Untuk mendapatkan text atau inner html nya kita bisa memanfaatkan properti text. Format datenya contoh 1 hour ago, 1 day ago, 1 month ago dsb\n",
    "\n",
    "Namun disini terdapat kendala karena tag tanggal tergabung dengan berbagai text lainnya jadi harus dilakukan pemrosesan terlebih dahulu. Cara yang akan digunakan disini sedikit berbahaya karena memanfaatkan separator yang bisa jadi tidak konsisten di semua berita, meskipun sampai saat ini belum ditemukan."
   ]
  },
  {
   "cell_type": "markdown",
   "metadata": {},
   "source": [
    "### Dapatkan Isi Berita\n",
    "\n",
    "Sebelum kita menelusuri satu per satu kita perlu tahu dahulu struktur dari sebuah halaman berita pada kompas.com untuk mendapatkan properties yang kita inginkan. \n",
    "\n",
    "Gunakan inspect element!\n",
    "\n",
    "Misalkan disini ingin diambil judul berita, isi berita, beserta tanggal pembuatan berita. Setelah dianalisa, judul berada pada elemen div yang mempunyai class kcm-read-top, sedangkan isi_berita pada div yang mempunyai kelas kcm-read-text, dan tanggal div dengan class kcm-date. Untuk mendapatkan text atau inner html nya kita bisa memanfaatkan properti text.\n",
    "\n",
    "Namun disini terdapat kendala karena tag tanggal tergabung dengan berbagai text lainnya jadi harus dilakukan pemrosesan terlebih dahulu. Cara yang akan digunakan disini sedikit berbahaya karena memanfaatkan separator yang bisa jadi tidak konsisten di semua berita, meskipun sampai saat ini belum ditemukan."
   ]
  },
  {
   "cell_type": "code",
   "execution_count": null,
   "metadata": {},
   "outputs": [],
   "source": [
    "# html = urllib.urlopen(\"http://tekno.kompas.com/read/2016/04/26/19500067/6.Aplikasi.Gratis.Pengirit.Baterai.Android\").read()\n",
    "# soup = BeautifulSoup(html, \"lxml\")\n",
    "\n",
    "# judul = soup.find(\"div\",\"kcm-read-top\").find(\"h2\").text.strip()\n",
    "# isi_berita = soup.find(\"div\",\"kcm-read-text\").text.strip()\n",
    "# tanggal = soup.find(\"div\",\"kcm-date\").text\n",
    "\n",
    "# #print(tanggal.strip())\n",
    "# tanggal = tanggal.strip().split(',')[1].split('|')[0].strip()\n",
    "# print(tanggal)\n",
    "\n",
    "html = urllib.request.urlopen(\"https://www.hipwee.com/narasi/kepada-senja-yang-berlabuh/\")\n",
    "soup = BeautifulSoup(html, 'lxml')\n",
    "\n",
    "judul = soup.find(\"div\",\"article-title\").find(\"h1\",\"title\").text.strip()\n",
    "isi_artikel = soup.find(\"div\", \"post-content\").text.strip()\n",
    "ket_tanggal = soup.find(\"div\",\"article-entry\").find(\"span\",\"date\").text.strip()\n",
    "listKet_tanggal = ket_tanggal.split()\n",
    "angka_ket_tanggal = listKet_tanggal[0]\n",
    "\n",
    "import datetime\n",
    "def getTanggal(angka, ket):\n",
    "    current_time = datetime.datetime.now()\n",
    "#     print(current_time.day)\n",
    "    if 'hour' in str(ket):\n",
    "        return str(current_time.year)+'-'+str(current_time.month)+'-'+str(current_time.day)\n",
    "    elif 'day' in str(ket):\n",
    "        day = int(current_time.day) - int(angka)\n",
    "        return str(current_time.year)+'-'+str(current_time.month)+'-'+day\n",
    "    elif 'month' in str(ket):\n",
    "        month = int(current_time.month) - int(angka)\n",
    "        return str(current_time.year)+'-'+month+'-'+str(current_time.day)\n",
    "    elif 'year' in str(ket):\n",
    "        year = int(current_time.year) - int(angka)\n",
    "        return year+'-'+str(current_time.month)+'-'+str(current_time.day)\n",
    "\n",
    "tanggal = getTanggal(angka_ket_tanggal, ket_tanggal)\n",
    "print(tanggal)"
   ]
  },
  {
   "cell_type": "markdown",
   "metadata": {},
   "source": [
    "Sebagai tambahan, python juga dapat menyimpan sebuah gambar. Disini akan coba kita terapkan untuk menyimpan gambar dari berita. "
   ]
  },
  {
   "cell_type": "code",
   "execution_count": null,
   "metadata": {},
   "outputs": [],
   "source": [
    "# gambar = soup.find(\"div\",\"kcm-read-top\").find(\"img\")\n",
    "gambar = soup.find(\"div\",\"post-image\").find(\"div\",\"img-wrap\").find(\"img\")\n",
    "print(gambar['src'])\n",
    "\n",
    "from PIL import Image\n",
    "from StringIO import StringIO\n",
    "import string\n",
    "\n",
    "r = urllib.urlopen(gambar[\"src\"]).read()\n",
    "print(r)\n",
    "\n",
    "i = Image.open(StringIO(r))\n",
    "exclude = set(string.punctuation)\n",
    "judul = ''.join(ch for ch in judul if ch not in exclude)\n",
    "\n",
    "nama_file = \"images/\" + judul + \".jpg\"\n",
    "i.save(nama_file,'JPEG')\n"
   ]
  },
  {
   "cell_type": "markdown",
   "metadata": {},
   "source": [
    "### Gabungkan ke Dalam Fungsi"
   ]
  },
  {
   "cell_type": "code",
   "execution_count": null,
   "metadata": {
    "collapsed": true
   },
   "outputs": [],
   "source": [
    "# def getBerita(link):\n",
    "#     html = urllib.urlopen(link).read()\n",
    "#     soup = BeautifulSoup(html, \"lxml\")\n",
    "\n",
    "#     judul = soup.find(\"div\",\"kcm-read-top\").find(\"h2\").text.strip().encode(\"utf8\")\n",
    "#     isi_berita = soup.find(\"div\",\"kcm-read-text\").text.strip().encode(\"utf8\")\n",
    "#     tanggal = soup.find(\"div\",\"kcm-date\").text\n",
    "#     tanggal = tanggal.strip().split(',')[1].split('|')[0].strip()\n",
    "#     gambar = soup.find(\"div\",\"kcm-read-top\").find(\"img\")\n",
    "    \n",
    "#     r = urllib.urlopen(gambar[\"src\"]).read()\n",
    "#     i = Image.open(StringIO(r))\n",
    "    \n",
    "#     exclude = set(string.punctuation)\n",
    "#     judul = ''.join(ch for ch in judul if ch not in exclude)\n",
    "    \n",
    "#     nama_file = \"images/\" + judul + \".jpg\"\n",
    "#     i.save(nama_file,'JPEG')\n",
    "    \n",
    "#     return [judul,isi_berita,tanggal]\n",
    "\n",
    "import datetime\n",
    "def getTanggal(angka, ket):\n",
    "    current_time = datetime.datetime.now()\n",
    "#     print(current_time.day)\n",
    "    if 'hour' in str(ket):\n",
    "        return str(current_time.year)+'-'+str(current_time.month)+'-'+str(current_time.day)\n",
    "    elif 'day' in str(ket):\n",
    "        day = int(current_time.day) - int(angka)\n",
    "        return str(current_time.year)+'-'+str(current_time.month)+'-'+day\n",
    "    elif 'month' in str(ket):\n",
    "        month = int(current_time.month) - int(angka)\n",
    "        return str(current_time.year)+'-'+month+'-'+str(current_time.day)\n",
    "    elif 'year' in str(ket):\n",
    "        year = int(current_time.year) - int(angka)\n",
    "        return year+'-'+str(current_time.month)+'-'+str(current_time.day)\n",
    "\n",
    "def getArtikel(link):\n",
    "    html = urllib.urlopen(link).read()\n",
    "    soup = BeautifulSoup(html, \"lxml\")\n",
    "\n",
    "    judul = soup.find(\"div\",\"article-title\").find(\"h1\",\"title\").text.strip().encode(\"utf8\")\n",
    "    isi_artikel = soup.find(\"div\", \"post-content\").text.strip().encode(\"utf8\")\n",
    "    ket_tanggal = soup.find(\"div\",\"article-entry\").find(\"span\",\"date\").text.strip()\n",
    "    listKet_tanggal = ket_tanggal.split()\n",
    "    angka_ket_tanggal = listKet_tanggal[0]\n",
    "    tanggal = getTanggal(angka_ket_tanggal, ket_tanggal)\n",
    "    gambar = soup.find(\"div\",\"post-image\").find(\"div\",\"img-wrap\").find(\"img\")\n",
    "    \n",
    "    r = urllib.urlopen(gambar[\"src\"]).read()\n",
    "    i = Image.open(StringIO(r))\n",
    "    \n",
    "    exclude = set(string.punctuation)\n",
    "    judul = ''.join(ch for ch in judul if ch not in exclude)\n",
    "    \n",
    "    nama_file = \"images/\" + judul + \".jpg\"\n",
    "    i.save(nama_file,'JPEG')\n",
    "    \n",
    "    return [judul,isi_berita,tanggal]"
   ]
  },
  {
   "cell_type": "markdown",
   "metadata": {},
   "source": [
    "### Dapatkan Semua Data dari Link Berita"
   ]
  },
  {
   "cell_type": "code",
   "execution_count": null,
   "metadata": {},
   "outputs": [],
   "source": [
    "artikel = []\n",
    "for link in artikel_link:\n",
    "    print('%s: %s'%(link.text.strip(),link[\"href\"]))\n",
    "    try:\n",
    "        berita.append(getArtikel(link[\"href\"]))\n",
    "    except:\n",
    "        pass"
   ]
  },
  {
   "cell_type": "markdown",
   "metadata": {},
   "source": [
    "### Simpan ke dalam CSV"
   ]
  },
  {
   "cell_type": "code",
   "execution_count": null,
   "metadata": {},
   "outputs": [],
   "source": [
    "#print(berita)\n",
    "import csv\n",
    "\n",
    "with open('data_artikel.csv', 'wb') as f:\n",
    "    writer = csv.writer(f)\n",
    "    writer.writerows(artikel)"
   ]
  },
  {
   "cell_type": "code",
   "execution_count": null,
   "metadata": {
    "collapsed": true
   },
   "outputs": [],
   "source": []
  }
 ],
 "metadata": {
  "kernelspec": {
   "display_name": "Python 3",
   "language": "python",
   "name": "python3"
  },
  "language_info": {
   "codemirror_mode": {
    "name": "ipython",
    "version": 3
   },
   "file_extension": ".py",
   "mimetype": "text/x-python",
   "name": "python",
   "nbconvert_exporter": "python",
   "pygments_lexer": "ipython3",
   "version": "3.6.5"
  }
 },
 "nbformat": 4,
 "nbformat_minor": 1
}
