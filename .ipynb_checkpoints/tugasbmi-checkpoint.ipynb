{
 "cells": [
  {
   "cell_type": "markdown",
   "metadata": {},
   "source": [
    "## Tugas Kalkulator BMI\n",
    "Ayuningtyas Hari Fristiana\n",
    "Kelas BD-B"
   ]
  },
  {
   "cell_type": "markdown",
   "metadata": {},
   "source": [
    "## Latihan\n",
    "Body Mass Index (BMI) menentukan sebuah keidealan berat badan terhadap tinggi badan. Berikut adalah formula dari BMI : BMI = weight (kg) ÷ height^2 (m^2). Buatlah sebuah program yang memiliki dua variabel berat badan dengan satuan KG, dan tinggi badan dengan satuan CM, kemudian keluaran dari program adalah Kategori BMI"
   ]
  },
  {
   "cell_type": "markdown",
   "metadata": {},
   "source": [
    "| BMI                 | Kategori BMI             |   |\n",
    "|---------------------|---------------------------|---|\n",
    "| Kurang dari 15        | Very severely underweight |   |\n",
    "| Diantara 15 dan 16   | Severely underweight      |   |\n",
    "| Diantara 16 dan 18.5 | Underweight               |   |\n",
    "| Diantara 18.5 dan 25 | Normal (healthy weight)   |   |\n",
    "| Diantara 25 dan 30   | Overweight                |   |\n",
    "| Diantara 30 dan 35   | Moderately obese          |   |\n",
    "| Diantara 35 dan 40   | Severely obese            |   |\n",
    "| Over 40             | Very severely obese       |   |"
   ]
  },
  {
   "cell_type": "code",
   "execution_count": 7,
   "metadata": {},
   "outputs": [
    {
     "name": "stdout",
     "output_type": "stream",
     "text": [
      "Weight  45 kg and height  159 cm. Calculated BMI 17.799928800284796 , this means Underweight\n"
     ]
    }
   ],
   "source": [
    "def bmiCalculator(weight, height):\n",
    "    height_in_meter = height/100\n",
    "    bmi = 0\n",
    "    bmi_category = 'Undefined'\n",
    "    penyebut = height_in_meter**2\n",
    "    if penyebut>0 :\n",
    "        bmi = weight/penyebut\n",
    "    \n",
    "    if bmi<15:\n",
    "        bmi_category = 'Very severely underweight'\n",
    "    elif 15<=bmi<16:\n",
    "        bmi_category = 'Severely underweight'\n",
    "    elif 16<=bmi<18.5:\n",
    "        bmi_category = 'Underweight'\n",
    "    elif 18.5<=bmi<25:\n",
    "        bmi_category = 'Normal (healthy weight)'\n",
    "    elif 25<=bmi<30:\n",
    "        bmi_category = 'Overweight'\n",
    "    elif 30<=bmi<35:\n",
    "        bmi_category = 'Moderately obese'\n",
    "    elif 35<=bmi<40:\n",
    "        bmi_category = 'Severely obese'\n",
    "    elif bmi>=40:\n",
    "        bmi_category = 'Very severely obese'\n",
    "    else:\n",
    "        bmi_category = 'Undefined'\n",
    "        \n",
    "    result = {'bmi':bmi, 'bmi_category':bmi_category}\n",
    "    return result\n",
    "\n",
    "weight = 45\n",
    "height = 159\n",
    "calculated_bmi = bmiCalculator(45, 159)\n",
    "bmi = calculated_bmi['bmi']\n",
    "bmi_category = calculated_bmi['bmi_category']\n",
    "print('Weight ',weight,'kg and height ',height,'cm. Calculated BMI',bmi,', this means', bmi_category)"
   ]
  }
 ],
 "metadata": {
  "kernelspec": {
   "display_name": "Python 3",
   "language": "python",
   "name": "python3"
  },
  "language_info": {
   "codemirror_mode": {
    "name": "ipython",
    "version": 3
   },
   "file_extension": ".py",
   "mimetype": "text/x-python",
   "name": "python",
   "nbconvert_exporter": "python",
   "pygments_lexer": "ipython3",
   "version": "3.6.5"
  }
 },
 "nbformat": 4,
 "nbformat_minor": 2
}
