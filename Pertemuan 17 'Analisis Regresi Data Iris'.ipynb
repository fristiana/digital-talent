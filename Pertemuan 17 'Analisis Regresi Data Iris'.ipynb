{
 "cells": [
  {
   "cell_type": "code",
   "execution_count": 2,
   "metadata": {},
   "outputs": [],
   "source": [
    "import numpy as np\n",
    "import matplotlib.pyplot as plt\n",
    "from sklearn import datasets"
   ]
  },
  {
   "cell_type": "code",
   "execution_count": 3,
   "metadata": {},
   "outputs": [],
   "source": [
    "iris = datasets.load_iris()"
   ]
  },
  {
   "cell_type": "code",
   "execution_count": 4,
   "metadata": {},
   "outputs": [],
   "source": [
    "#definisi kan data untuk masing-masing jenis bunga iris\n",
    "X1 = iris.data[0:50, 0:2]\n",
    "X2 = iris.data[50:100, 0:2]\n",
    "X3 = iris.data[100:150, 0:2]"
   ]
  },
  {
   "cell_type": "code",
   "execution_count": 5,
   "metadata": {},
   "outputs": [],
   "source": [
    "#menentukan rata-rata setiap jenis bunga\n",
    "m1 = np.mean(X1, axis = 0)\n",
    "m2 = np.mean(X2, axis = 0)\n",
    "m3 = np.mean(X3, axis = 0)"
   ]
  },
  {
   "cell_type": "code",
   "execution_count": 6,
   "metadata": {},
   "outputs": [],
   "source": [
    "#menentukan covarian dari setiap jenis bunga\n",
    "C1 = np.cov(X1.T)\n",
    "C2 = np.cov(X2.T)\n",
    "C3 = np.cov(X3.T)"
   ]
  },
  {
   "cell_type": "code",
   "execution_count": 7,
   "metadata": {},
   "outputs": [
    {
     "data": {
      "image/png": "[encoded data removed]",
      "text/plain": [
       "<Figure size 432x288 with 1 Axes>"
      ]
     },
     "metadata": {
      "needs_background": "light"
     },
     "output_type": "display_data"
    }
   ],
   "source": [
    "#plot scattering data untuk jenis bunga pertama\n",
    "plt.scatter(X1[:,0], X1[:,1])\n",
    "plt.show()"
   ]
  },
  {
   "cell_type": "code",
   "execution_count": 8,
   "metadata": {},
   "outputs": [
    {
     "data": {
      "text/plain": [
       "array([[5.1, 3.5],\n",
       "       [4.9, 3. ],\n",
       "       [4.7, 3.2],\n",
       "       [4.6, 3.1],\n",
       "       [5. , 3.6],\n",
       "       [5.4, 3.9],\n",
       "       [4.6, 3.4],\n",
       "       [5. , 3.4]])"
      ]
     },
     "execution_count": 8,
     "metadata": {},
     "output_type": "execute_result"
    }
   ],
   "source": [
    "#menampilkan 8 data pertama dari data bunga pertama\n",
    "X1[0:8, :]"
   ]
  },
  {
   "cell_type": "markdown",
   "metadata": {},
   "source": [
    "# Regresi Linier"
   ]
  },
  {
   "cell_type": "code",
   "execution_count": 10,
   "metadata": {},
   "outputs": [
    {
     "name": "stdout",
     "output_type": "stream",
     "text": [
      "(50, 2)\n",
      "(50,)\n"
     ]
    }
   ],
   "source": [
    "#definisikan matriks\n",
    "\n",
    "#kolom pertama\n",
    "c1 = X1[:,0]\n",
    "\n",
    "#kolom kedua kita isi dengan matriks berisikan nilai 1\n",
    "mones = np.ones(50)\n",
    "\n",
    "#maka didapatkan matriks X\n",
    "X = np.c_[c1, mones]\n",
    "print(X.shape)\n",
    "\n",
    "y = X1[:,1]\n",
    "print(y.shape)"
   ]
  },
  {
   "cell_type": "code",
   "execution_count": 11,
   "metadata": {},
   "outputs": [
    {
     "data": {
      "text/plain": [
       "array([ 0.80723367, -0.62301173])"
      ]
     },
     "execution_count": 11,
     "metadata": {},
     "output_type": "execute_result"
    }
   ],
   "source": [
    "# rumus matriksnya ialah b = (Xtranspose*X)inverse * Xtranpose*y\n",
    "\n",
    "\n",
    "#hitung perkalian matriksnya dengan matriks multiplication\n",
    "r1 = np.matmul(X.T, y)\n",
    "r2 = np.matmul(X.T, X)\n",
    "\n",
    "#definisikan inverse r2\n",
    "r2inv = np.linalg.inv(r2)\n",
    "\n",
    "b = np.matmul(r2inv, r1)\n",
    "b"
   ]
  },
  {
   "cell_type": "code",
   "execution_count": 12,
   "metadata": {},
   "outputs": [
    {
     "data": {
      "image/png": "[encoded data removed]",
      "text/plain": [
       "<Figure size 432x288 with 1 Axes>"
      ]
     },
     "metadata": {
      "needs_background": "light"
     },
     "output_type": "display_data"
    }
   ],
   "source": [
    "#buat plot scattering data dengan hasil regresi liniernya\n",
    "XX = np.arange(4,6, 0.05)\n",
    "YY = b[0]*XX + b[1]\n",
    "\n",
    "plt.scatter(X1[:, 0], X1[:, 1])\n",
    "plt.scatter(XX,YY)\n",
    "plt.show()"
   ]
  },
  {
   "cell_type": "markdown",
   "metadata": {},
   "source": [
    "# Regresi menggunakan persamaan kuadrat"
   ]
  },
  {
   "cell_type": "code",
   "execution_count": 13,
   "metadata": {},
   "outputs": [
    {
     "data": {
      "text/plain": [
       "array([ 0.16582985, -0.85979347,  3.54623206])"
      ]
     },
     "execution_count": 13,
     "metadata": {},
     "output_type": "execute_result"
    }
   ],
   "source": [
    "c1 = X1[:, 0]\n",
    "sqc1 = np.square(c1)\n",
    "mones = np.ones(50)\n",
    "\n",
    "#definisikan kolom matriks\n",
    "X = np.c_[sqc1, c1, mones]\n",
    "y = X1[:, 1]\n",
    "\n",
    "r1 = np.matmul(X.T, y)\n",
    "r2 = np.matmul(X.T, X)\n",
    "r2inv = np.linalg.inv(r2)\n",
    "\n",
    "b = np.matmul (r2inv, r1)\n",
    "b"
   ]
  },
  {
   "cell_type": "code",
   "execution_count": 14,
   "metadata": {},
   "outputs": [
    {
     "data": {
      "image/png": "[encoded data removed]",
      "text/plain": [
       "<Figure size 432x288 with 1 Axes>"
      ]
     },
     "metadata": {
      "needs_background": "light"
     },
     "output_type": "display_data"
    }
   ],
   "source": [
    "#buat plot scattering data dengan hasil regresi liniernya\n",
    "XX = np.arange(4,6, 0.05)\n",
    "YY = b[0]*XX*XX + b[1]*XX + b[2]\n",
    "\n",
    "plt.scatter(X1[:, 0], X1[:, 1])\n",
    "plt.scatter(XX,YY)\n",
    "plt.show()"
   ]
  },
  {
   "cell_type": "markdown",
   "metadata": {},
   "source": [
    "# Regresi menggunakan fungsi pangkat 3"
   ]
  },
  {
   "cell_type": "code",
   "execution_count": 15,
   "metadata": {},
   "outputs": [
    {
     "data": {
      "text/plain": [
       "array([ -0.40357418,   6.2704119 , -31.5094635 ,  54.62270796])"
      ]
     },
     "execution_count": 15,
     "metadata": {},
     "output_type": "execute_result"
    }
   ],
   "source": [
    "#definisikan matriks fungsi pangkat 3\n",
    "cbc1 =c1*c1*c1\n",
    "X = np.c_[cbc1, sqc1, c1, mones]\n",
    "\n",
    "r1 = np.matmul(X.T, y)\n",
    "r2 = np.matmul(X.T, X)\n",
    "r2inv = np.linalg.inv(r2)\n",
    "\n",
    "b = np.matmul (r2inv, r1)\n",
    "b"
   ]
  },
  {
   "cell_type": "code",
   "execution_count": 16,
   "metadata": {},
   "outputs": [
    {
     "data": {
      "image/png": "[encoded data removed]",
      "text/plain": [
       "<Figure size 432x288 with 1 Axes>"
      ]
     },
     "metadata": {
      "needs_background": "light"
     },
     "output_type": "display_data"
    }
   ],
   "source": [
    "#buat plot scattering data dengan hasil regresi liniernya\n",
    "XX = np.arange(4,6, 0.05)\n",
    "YY = b[0]*XX*XX*XX + b[1]*XX*XX + b[2]*XX + b[3]\n",
    "\n",
    "plt.scatter(X1[:, 0], X1[:, 1])\n",
    "plt.scatter(XX,YY)\n",
    "plt.show()"
   ]
  },
  {
   "cell_type": "markdown",
   "metadata": {},
   "source": [
    "# Multi Linier Regresi"
   ]
  },
  {
   "cell_type": "code",
   "execution_count": 17,
   "metadata": {},
   "outputs": [
    {
     "data": {
      "text/plain": [
       "array([[5.1, 1.4, 3.5],\n",
       "       [4.9, 1.4, 3. ],\n",
       "       [4.7, 1.3, 3.2],\n",
       "       [4.6, 1.5, 3.1],\n",
       "       [5. , 1.4, 3.6],\n",
       "       [5.4, 1.7, 3.9],\n",
       "       [4.6, 1.4, 3.4],\n",
       "       [5. , 1.5, 3.4]])"
      ]
     },
     "execution_count": 17,
     "metadata": {},
     "output_type": "execute_result"
    }
   ],
   "source": [
    "#definisikan data multi liniernya terlebih dahulu\n",
    "X1 = iris.data[0:50, [0,2,1]]\n",
    "X1[0:8, :]"
   ]
  },
  {
   "cell_type": "markdown",
   "metadata": {},
   "source": [
    "fungsi multi linier regresinya, misal yang pertama\n",
    "5.1 c1 + 1.4 c2 + c3 = 3.5"
   ]
  },
  {
   "cell_type": "code",
   "execution_count": 18,
   "metadata": {},
   "outputs": [
    {
     "data": {
      "text/plain": [
       "array([ 0.8134761 , -0.04805918, -0.58390272])"
      ]
     },
     "execution_count": 18,
     "metadata": {},
     "output_type": "execute_result"
    }
   ],
   "source": [
    "#definisikan matriks multi linier\n",
    "c1 = X1[:,0]\n",
    "c2 = X1[:,1]\n",
    "mones = np.ones(50)\n",
    "\n",
    "X = np.c_[c1, c2, mones]\n",
    "y = X1[:,2]\n",
    "\n",
    "r1 = np.matmul(X.T, y)\n",
    "r2 = np.matmul(X.T, X)\n",
    "r2inv = np.linalg.inv(r2)\n",
    "b = np.matmul (r2inv, r1)\n",
    "b"
   ]
  },
  {
   "cell_type": "code",
   "execution_count": 19,
   "metadata": {},
   "outputs": [
    {
     "data": {
      "image/png": "[encoded data removed]",
      "text/plain": [
       "<Figure size 432x288 with 1 Axes>"
      ]
     },
     "metadata": {
      "needs_background": "light"
     },
     "output_type": "display_data"
    }
   ],
   "source": [
    "#buat plot scattering data dengan hasil regresi liniernya\n",
    "XX1 = np.arange(4,6, 0.05)\n",
    "XX2 = np.arange(4,6, 0.05)\n",
    "GX1, GX2 = np.meshgrid(XX1,XX2)\n",
    "\n",
    "#ravel membuat grid menjadi vektor\n",
    "YY = b[0]*GX1.ravel() + b[1]*GX2.ravel() + b[2]\n",
    "\n",
    "from mpl_toolkits.mplot3d import Axes3D\n",
    "fig = plt.figure()\n",
    "ax = fig.add_subplot(111, projection='3d')\n",
    "ax.scatter(GX1, GX2, YY)\n",
    "ax.scatter(X1[:,0], X1[:,1], X1[:,2])\n",
    "plt.show()"
   ]
  },
  {
   "cell_type": "markdown",
   "metadata": {},
   "source": [
    "# Regresi Multi persamaan kuadrat"
   ]
  },
  {
   "cell_type": "code",
   "execution_count": 20,
   "metadata": {},
   "outputs": [
    {
     "data": {
      "text/plain": [
       "array([ 0.05212075,  1.21429185,  0.1569168 ,  0.09291483, -4.39289485,\n",
       "        4.28066767])"
      ]
     },
     "execution_count": 20,
     "metadata": {},
     "output_type": "execute_result"
    }
   ],
   "source": [
    "#definisikan matriks\n",
    "c1 = X1[:,0]\n",
    "c2 = X1[:,1]\n",
    "sqc1 = c1*c1\n",
    "sqc2 = c2*c2\n",
    "\n",
    "X = np.c_[sqc1, sqc2, c1*c2, c1, c2, mones]\n",
    "y = X1[:,2]\n",
    "\n",
    "r1 = np.matmul(X.T, y)\n",
    "r2 = np.matmul(X.T, X)\n",
    "r2inv = np.linalg.inv(r2)\n",
    "b = np.matmul (r2inv, r1)\n",
    "b"
   ]
  },
  {
   "cell_type": "code",
   "execution_count": 21,
   "metadata": {},
   "outputs": [
    {
     "ename": "ValueError",
     "evalue": "operands could not be broadcast together with shapes (1600,) (50,) ",
     "output_type": "error",
     "traceback": [
      "\u001b[1;31m---------------------------------------------------------------------------\u001b[0m",
      "\u001b[1;31mValueError\u001b[0m                                Traceback (most recent call last)",
      "\u001b[1;32m<ipython-input-21-118ef44f81b7>\u001b[0m in \u001b[0;36m<module>\u001b[1;34m()\u001b[0m\n\u001b[0;32m      1\u001b[0m \u001b[1;31m#ravel membuat grid menjadi vektor\u001b[0m\u001b[1;33m\u001b[0m\u001b[1;33m\u001b[0m\u001b[0m\n\u001b[1;32m----> 2\u001b[1;33m \u001b[0mYY\u001b[0m \u001b[1;33m=\u001b[0m \u001b[0mb\u001b[0m\u001b[1;33m[\u001b[0m\u001b[1;36m0\u001b[0m\u001b[1;33m]\u001b[0m\u001b[1;33m*\u001b[0m\u001b[0mGX1\u001b[0m\u001b[1;33m.\u001b[0m\u001b[0mravel\u001b[0m\u001b[1;33m(\u001b[0m\u001b[1;33m)\u001b[0m\u001b[1;33m*\u001b[0m\u001b[0mGX1\u001b[0m\u001b[1;33m.\u001b[0m\u001b[0mravel\u001b[0m\u001b[1;33m(\u001b[0m\u001b[1;33m)\u001b[0m \u001b[1;33m+\u001b[0m \u001b[0mb\u001b[0m\u001b[1;33m[\u001b[0m\u001b[1;36m1\u001b[0m\u001b[1;33m]\u001b[0m\u001b[1;33m*\u001b[0m\u001b[0mGX2\u001b[0m\u001b[1;33m.\u001b[0m\u001b[0mravel\u001b[0m\u001b[1;33m(\u001b[0m\u001b[1;33m)\u001b[0m\u001b[1;33m*\u001b[0m\u001b[0mGX2\u001b[0m\u001b[1;33m.\u001b[0m\u001b[0mravel\u001b[0m\u001b[1;33m(\u001b[0m\u001b[1;33m)\u001b[0m \u001b[1;33m+\u001b[0m \u001b[0mb\u001b[0m\u001b[1;33m[\u001b[0m\u001b[1;36m2\u001b[0m\u001b[1;33m]\u001b[0m\u001b[1;33m*\u001b[0m\u001b[0mc1\u001b[0m\u001b[1;33m*\u001b[0m\u001b[0mc2\u001b[0m \u001b[1;33m+\u001b[0m \u001b[0mb\u001b[0m\u001b[1;33m[\u001b[0m\u001b[1;36m3\u001b[0m\u001b[1;33m]\u001b[0m\u001b[1;33m*\u001b[0m\u001b[0mc1\u001b[0m \u001b[1;33m+\u001b[0m \u001b[0mb\u001b[0m\u001b[1;33m[\u001b[0m\u001b[1;36m4\u001b[0m\u001b[1;33m]\u001b[0m\u001b[1;33m*\u001b[0m\u001b[0mc2\u001b[0m \u001b[1;33m+\u001b[0m \u001b[0mb\u001b[0m\u001b[1;33m[\u001b[0m\u001b[1;36m5\u001b[0m\u001b[1;33m]\u001b[0m\u001b[1;33m\u001b[0m\u001b[0m\n\u001b[0m\u001b[0;32m      3\u001b[0m \u001b[1;33m\u001b[0m\u001b[0m\n\u001b[0;32m      4\u001b[0m \u001b[1;32mfrom\u001b[0m \u001b[0mmpl_toolkits\u001b[0m\u001b[1;33m.\u001b[0m\u001b[0mmplot3d\u001b[0m \u001b[1;32mimport\u001b[0m \u001b[0mAxes3D\u001b[0m\u001b[1;33m\u001b[0m\u001b[0m\n\u001b[0;32m      5\u001b[0m \u001b[0mfig\u001b[0m \u001b[1;33m=\u001b[0m \u001b[0mplt\u001b[0m\u001b[1;33m.\u001b[0m\u001b[0mfigure\u001b[0m\u001b[1;33m(\u001b[0m\u001b[1;33m)\u001b[0m\u001b[1;33m\u001b[0m\u001b[0m\n",
      "\u001b[1;31mValueError\u001b[0m: operands could not be broadcast together with shapes (1600,) (50,) "
     ]
    }
   ],
   "source": [
    "#ravel membuat grid menjadi vektor\n",
    "YY = b[0]*GX1.ravel()*GX1.ravel() + b[1]*GX2.ravel()*GX2.ravel() + b[2]*c1*c2 + b[3]*c1 + b[4]*c2 + b[5]\n",
    "\n",
    "from mpl_toolkits.mplot3d import Axes3D\n",
    "fig = plt.figure()\n",
    "ax = fig.add_subplot(111, projection='3d')\n",
    "ax.scatter(GX1, GX2, YY)\n",
    "ax.scatter(X1[:,0], X1[:,1], X1[:,2])\n",
    "plt.show()"
   ]
  },
  {
   "cell_type": "markdown",
   "metadata": {},
   "source": [
    "# Menggunakan pemanggilan fungsi tanpa matriks"
   ]
  },
  {
   "cell_type": "code",
   "execution_count": 22,
   "metadata": {},
   "outputs": [
    {
     "data": {
      "text/plain": [
       "array([[5.1, 1.4, 3.5],\n",
       "       [4.9, 1.4, 3. ],\n",
       "       [4.7, 1.3, 3.2],\n",
       "       [4.6, 1.5, 3.1],\n",
       "       [5. , 1.4, 3.6],\n",
       "       [5.4, 1.7, 3.9],\n",
       "       [4.6, 1.4, 3.4],\n",
       "       [5. , 1.5, 3.4]])"
      ]
     },
     "execution_count": 22,
     "metadata": {},
     "output_type": "execute_result"
    }
   ],
   "source": [
    "X1[0:8, :]"
   ]
  },
  {
   "cell_type": "code",
   "execution_count": 23,
   "metadata": {},
   "outputs": [
    {
     "data": {
      "text/plain": [
       "LinearRegression(copy_X=True, fit_intercept=True, n_jobs=1, normalize=False)"
      ]
     },
     "execution_count": 23,
     "metadata": {},
     "output_type": "execute_result"
    }
   ],
   "source": [
    "c1 = X1[:,0]\n",
    "c2 = X1[:,1]\n",
    "X = np.c_[c1,c2]\n",
    "\n",
    "from sklearn import datasets, linear_model\n",
    "from sklearn.metrics import mean_squared_error, r2_score\n",
    "\n",
    "linreg = linear_model.LinearRegression()\n",
    "y = X1[:,2]\n",
    "linreg.fit(X,y)"
   ]
  },
  {
   "cell_type": "code",
   "execution_count": 24,
   "metadata": {},
   "outputs": [
    {
     "data": {
      "text/plain": [
       "array([ 0.8134761 , -0.04805918])"
      ]
     },
     "execution_count": 24,
     "metadata": {},
     "output_type": "execute_result"
    }
   ],
   "source": [
    "linreg.coef_"
   ]
  },
  {
   "cell_type": "code",
   "execution_count": 25,
   "metadata": {},
   "outputs": [
    {
     "data": {
      "text/plain": [
       "array([5.006, 1.464, 3.418])"
      ]
     },
     "execution_count": 25,
     "metadata": {},
     "output_type": "execute_result"
    }
   ],
   "source": [
    "m1 = np.mean(X1, axis=0)\n",
    "m1"
   ]
  },
  {
   "cell_type": "code",
   "execution_count": 26,
   "metadata": {},
   "outputs": [
    {
     "data": {
      "text/plain": [
       "LinearRegression(copy_X=True, fit_intercept=True, n_jobs=1, normalize=False)"
      ]
     },
     "execution_count": 26,
     "metadata": {},
     "output_type": "execute_result"
    }
   ],
   "source": [
    "c1 = c1 - m1[0]\n",
    "c1 = c1 - m1[1]\n",
    "c1 = X1[:,0] - m1[0]\n",
    "c2 = X2[:,1] - m1[1]\n",
    "X = np.c_[c1,c2]\n",
    "\n",
    "linreg.fit(X,y)"
   ]
  },
  {
   "cell_type": "code",
   "execution_count": 27,
   "metadata": {},
   "outputs": [
    {
     "data": {
      "text/plain": [
       "array([ 0.80343933, -0.05487089])"
      ]
     },
     "execution_count": 27,
     "metadata": {},
     "output_type": "execute_result"
    }
   ],
   "source": [
    "linreg.coef_"
   ]
  },
  {
   "cell_type": "markdown",
   "metadata": {},
   "source": [
    "# Ridge regression\n",
    "Digunakan untuk regularisasi, meminimalkan square error dengan menambahkan nilai penalty terhadap alpha.\n",
    "linier ~ argmin (SE + alpha(c1 kuadrat + c2 kuadrat + c3 kuadrat))"
   ]
  },
  {
   "cell_type": "code",
   "execution_count": 28,
   "metadata": {},
   "outputs": [
    {
     "data": {
      "text/plain": [
       "Ridge(alpha=1.0, copy_X=True, fit_intercept=True, max_iter=None,\n",
       "   normalize=False, random_state=None, solver='auto', tol=0.001)"
      ]
     },
     "execution_count": 28,
     "metadata": {},
     "output_type": "execute_result"
    }
   ],
   "source": [
    "from sklearn.linear_model import Ridge\n",
    "ridreg = Ridge(alpha = 1.0)\n",
    "ridreg.fit(X,y)"
   ]
  },
  {
   "cell_type": "code",
   "execution_count": 29,
   "metadata": {},
   "outputs": [
    {
     "data": {
      "text/plain": [
       "array([ 0.69016371, -0.05363795])"
      ]
     },
     "execution_count": 29,
     "metadata": {},
     "output_type": "execute_result"
    }
   ],
   "source": [
    "ridreg.coef_"
   ]
  },
  {
   "cell_type": "code",
   "execution_count": 30,
   "metadata": {},
   "outputs": [
    {
     "data": {
      "image/png": "[encoded data removed]",
      "text/plain": [
       "<Figure size 432x288 with 1 Axes>"
      ]
     },
     "metadata": {
      "needs_background": "light"
     },
     "output_type": "display_data"
    }
   ],
   "source": [
    "c1 = X1[:,0]\n",
    "y = X1[:,2]\n",
    "c1 = X1[:,0] - m1[0]\n",
    "y = X1[:,2] - m1[2]\n",
    "X = np.c_[c1]\n",
    "\n",
    "linreg.fit(X,y)\n",
    "ridreg.fit(X,y)\n",
    "\n",
    "XX = np.arange(0,10, 0.05)\n",
    "XX_ = np.c_[XX]\n",
    "\n",
    "YY = linreg.predict(XX_)\n",
    "YY2 = ridreg.predict(XX_)\n",
    "\n",
    "plt.scatter(XX, YY, c='y')\n",
    "plt.scatter(XX, YY2, c = 'b')\n",
    "plt.show()"
   ]
  },
  {
   "cell_type": "markdown",
   "metadata": {},
   "source": [
    "# Category dengan fungsi logistic"
   ]
  },
  {
   "cell_type": "code",
   "execution_count": 31,
   "metadata": {},
   "outputs": [
    {
     "data": {
      "text/plain": [
       "array([[4.8, 3. , 1.4, 0.3],\n",
       "       [5.1, 3.8, 1.6, 0.2],\n",
       "       [4.6, 3.2, 1.4, 0.2],\n",
       "       [5.3, 3.7, 1.5, 0.2],\n",
       "       [5. , 3.3, 1.4, 0.2],\n",
       "       [7. , 3.2, 4.7, 1.4],\n",
       "       [6.4, 3.2, 4.5, 1.5],\n",
       "       [6.9, 3.1, 4.9, 1.5],\n",
       "       [5.5, 2.3, 4. , 1.3],\n",
       "       [6.5, 2.8, 4.6, 1.5]])"
      ]
     },
     "execution_count": 31,
     "metadata": {},
     "output_type": "execute_result"
    }
   ],
   "source": [
    "iris.data[45:55, :]"
   ]
  },
  {
   "cell_type": "code",
   "execution_count": 32,
   "metadata": {},
   "outputs": [],
   "source": [
    "from sklearn.linear_model import LogisticRegression"
   ]
  },
  {
   "cell_type": "code",
   "execution_count": 33,
   "metadata": {},
   "outputs": [
    {
     "data": {
      "text/plain": [
       "array([5.471, 3.094])"
      ]
     },
     "execution_count": 33,
     "metadata": {},
     "output_type": "execute_result"
    }
   ],
   "source": [
    "X1 = iris.data[0:100, 0:2]\n",
    "m1 = np.mean(X1, axis=0)\n",
    "m1"
   ]
  },
  {
   "cell_type": "code",
   "execution_count": 34,
   "metadata": {},
   "outputs": [],
   "source": [
    "c1 = X1[:,0] - m1[0]\n",
    "c2 = X1[:,1] - m1[1]\n",
    "y = iris.target[0:100]\n",
    "X = np.c_[c1,c2]"
   ]
  },
  {
   "cell_type": "code",
   "execution_count": 35,
   "metadata": {},
   "outputs": [
    {
     "data": {
      "text/plain": [
       "LogisticRegression(C=1.0, class_weight=None, dual=False, fit_intercept=True,\n",
       "          intercept_scaling=1, max_iter=100, multi_class='multinomial',\n",
       "          n_jobs=1, penalty='l2', random_state=0, solver='lbfgs',\n",
       "          tol=0.0001, verbose=0, warm_start=False)"
      ]
     },
     "execution_count": 35,
     "metadata": {},
     "output_type": "execute_result"
    }
   ],
   "source": [
    "logreg = LogisticRegression(random_state=0, solver='lbfgs', multi_class='multinomial')\n",
    "logreg.fit(X, y)"
   ]
  },
  {
   "cell_type": "code",
   "execution_count": 36,
   "metadata": {},
   "outputs": [
    {
     "data": {
      "text/plain": [
       "array([1])"
      ]
     },
     "execution_count": 36,
     "metadata": {},
     "output_type": "execute_result"
    }
   ],
   "source": [
    "logreg.predict([[5.0, 0.2]])"
   ]
  },
  {
   "cell_type": "code",
   "execution_count": 37,
   "metadata": {},
   "outputs": [
    {
     "data": {
      "text/plain": [
       "array([0])"
      ]
     },
     "execution_count": 37,
     "metadata": {},
     "output_type": "execute_result"
    }
   ],
   "source": [
    "logreg.predict([[3.0, 7.0]])"
   ]
  },
  {
   "cell_type": "code",
   "execution_count": 40,
   "metadata": {},
   "outputs": [],
   "source": [
    "XX = np.arange(-2.5,2.5, 0.05)\n",
    "YY = np.arange(-2.5,2.5, 0.05)\n",
    "\n",
    "GX, GY = np.meshgrid(XX, YY)\n",
    "\n",
    "input = np.c_[GX.ravel(), GY.ravel()]\n",
    "output = logreg.predict(input)"
   ]
  },
  {
   "cell_type": "code",
   "execution_count": 41,
   "metadata": {},
   "outputs": [
    {
     "data": {
      "image/png": "[encoded data removed]",
      "text/plain": [
       "<Figure size 432x288 with 1 Axes>"
      ]
     },
     "metadata": {
      "needs_background": "light"
     },
     "output_type": "display_data"
    }
   ],
   "source": [
    "plt.pcolormesh(GX, GY, output.reshape(GX.shape))\n",
    "plt.scatter(c1,c2)\n",
    "plt.show()"
   ]
  },
  {
   "cell_type": "code",
   "execution_count": null,
   "metadata": {},
   "outputs": [],
   "source": []
  }
 ],
 "metadata": {
  "kernelspec": {
   "display_name": "Python 3",
   "language": "python",
   "name": "python3"
  },
  "language_info": {
   "codemirror_mode": {
    "name": "ipython",
    "version": 3
   },
   "file_extension": ".py",
   "mimetype": "text/x-python",
   "name": "python",
   "nbconvert_exporter": "python",
   "pygments_lexer": "ipython3",
   "version": "3.6.5"
  }
 },
 "nbformat": 4,
 "nbformat_minor": 2
}
